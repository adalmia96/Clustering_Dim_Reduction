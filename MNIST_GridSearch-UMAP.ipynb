{
 "cells": [
  {
   "cell_type": "code",
   "execution_count": 1,
   "metadata": {
    "colab": {
     "base_uri": "https://localhost:8080/"
    },
    "id": "nDnUdfDtY2b_",
    "outputId": "caae535c-93cc-4d13-a87f-448a09002cc7"
   },
   "outputs": [
    {
     "name": "stdout",
     "output_type": "stream",
     "text": [
      "Requirement already satisfied: mnist in /home/adalmia1/anaconda3/lib/python3.7/site-packages (0.2.2)\n",
      "Requirement already satisfied: numpy in /home/adalmia1/anaconda3/lib/python3.7/site-packages (from mnist) (1.19.5)\n",
      "Requirement already satisfied: minisom in /home/adalmia1/anaconda3/lib/python3.7/site-packages (2.2.7)\n"
     ]
    },
    {
     "name": "stderr",
     "output_type": "stream",
     "text": [
      "/home/adalmia1/anaconda3/lib/python3.7/site-packages/umap/__init__.py:9: UserWarning: Tensorflow not installed; ParametricUMAP will be unavailable\n",
      "  warn(\"Tensorflow not installed; ParametricUMAP will be unavailable\")\n"
     ]
    },
    {
     "name": "stdout",
     "output_type": "stream",
     "text": [
      "Requirement already satisfied: ipython-autotime in /home/adalmia1/anaconda3/lib/python3.7/site-packages (0.3.0)\n",
      "Requirement already satisfied: ipython in /home/adalmia1/anaconda3/lib/python3.7/site-packages (from ipython-autotime) (7.19.0)\n",
      "Requirement already satisfied: backcall in /home/adalmia1/anaconda3/lib/python3.7/site-packages (from ipython->ipython-autotime) (0.2.0)\n",
      "Requirement already satisfied: pickleshare in /home/adalmia1/anaconda3/lib/python3.7/site-packages (from ipython->ipython-autotime) (0.7.5)\n",
      "Requirement already satisfied: prompt-toolkit!=3.0.0,!=3.0.1,<3.1.0,>=2.0.0 in /home/adalmia1/anaconda3/lib/python3.7/site-packages (from ipython->ipython-autotime) (3.0.8)\n",
      "Requirement already satisfied: setuptools>=18.5 in /home/adalmia1/anaconda3/lib/python3.7/site-packages (from ipython->ipython-autotime) (51.1.2.post20210110)\n",
      "Requirement already satisfied: jedi>=0.10 in /home/adalmia1/anaconda3/lib/python3.7/site-packages (from ipython->ipython-autotime) (0.17.2)\n",
      "Requirement already satisfied: decorator in /home/adalmia1/anaconda3/lib/python3.7/site-packages (from ipython->ipython-autotime) (4.4.2)\n",
      "Requirement already satisfied: pygments in /home/adalmia1/anaconda3/lib/python3.7/site-packages (from ipython->ipython-autotime) (2.7.3)\n",
      "Requirement already satisfied: traitlets>=4.2 in /home/adalmia1/anaconda3/lib/python3.7/site-packages (from ipython->ipython-autotime) (5.0.5)\n",
      "Requirement already satisfied: pexpect>4.3 in /home/adalmia1/anaconda3/lib/python3.7/site-packages (from ipython->ipython-autotime) (4.8.0)\n",
      "Requirement already satisfied: parso<0.8.0,>=0.7.0 in /home/adalmia1/anaconda3/lib/python3.7/site-packages (from jedi>=0.10->ipython->ipython-autotime) (0.7.0)\n",
      "Requirement already satisfied: ptyprocess>=0.5 in /home/adalmia1/anaconda3/lib/python3.7/site-packages (from pexpect>4.3->ipython->ipython-autotime) (0.7.0)\n",
      "Requirement already satisfied: wcwidth in /home/adalmia1/anaconda3/lib/python3.7/site-packages (from prompt-toolkit!=3.0.0,!=3.0.1,<3.1.0,>=2.0.0->ipython->ipython-autotime) (0.2.5)\n",
      "Requirement already satisfied: ipython-genutils in /home/adalmia1/anaconda3/lib/python3.7/site-packages (from traitlets>=4.2->ipython->ipython-autotime) (0.2.0)\n",
      "time: 553 µs (started: 2021-01-13 18:56:08 -05:00)\n"
     ]
    }
   ],
   "source": [
    "!pip3 install mnist\n",
    "!pip3 install minisom\n",
    "\n",
    "# imports\n",
    "import matplotlib.pyplot as plt\n",
    "import numpy as np\n",
    "import mnist\n",
    "import scipy.misc\n",
    "import math\n",
    "\n",
    "from sklearn import datasets,metrics\n",
    "from sklearn.datasets import fetch_20newsgroups_vectorized, fetch_rcv1\n",
    "\n",
    "from sklearn.decomposition import PCA, TruncatedSVD, KernelPCA\n",
    "from sklearn.manifold import TSNE\n",
    "import umap\n",
    "from minisom import MiniSom  \n",
    "\n",
    "\n",
    "from sklearn.model_selection import train_test_split\n",
    "from sklearn.cluster import KMeans, SpectralClustering\n",
    "\n",
    "from sklearn.model_selection import GridSearchCV\n",
    "import dask_ml.model_selection as dcv\n",
    "\n",
    "import warnings\n",
    "warnings.filterwarnings('ignore')\n",
    "\n",
    "\n",
    "!pip install ipython-autotime\n",
    "%load_ext autotime"
   ]
  },
  {
   "cell_type": "code",
   "execution_count": 2,
   "metadata": {
    "colab": {
     "base_uri": "https://localhost:8080/"
    },
    "id": "b9pUnfDwZ2II",
    "outputId": "c1ca475e-f422-4da1-d9d9-e661c5dfe795"
   },
   "outputs": [
    {
     "name": "stdout",
     "output_type": "stream",
     "text": [
      "time: 3.7 s (started: 2021-01-13 18:56:08 -05:00)\n"
     ]
    }
   ],
   "source": [
    "# Load Digits dataset\n",
    "digits = datasets.load_digits()\n",
    "digits_n_samples = len(digits.images)\n",
    "data = digits.images.reshape((digits_n_samples, -1))\n",
    "digits_X_train, digits_X_test, digits_y_train, digits_y_test = train_test_split(data, digits.target, test_size=0.3, shuffle=True)\n",
    "\n",
    "\n",
    "# Load full MNIST dataset\n",
    "MNIST_X_train = mnist.train_images()\n",
    "MNIST_X_train = MNIST_X_train.reshape((len(MNIST_X_train), -1)) \n",
    "MNIST_y_train = mnist.train_labels()\n",
    "\n",
    "MNIST_X_test = mnist.test_images()\n",
    "MNIST_X_test = MNIST_X_test.reshape((len(MNIST_X_test), -1)) \n",
    "MNIST_y_test = mnist.test_labels()\n",
    "\n",
    "total_samples = len(MNIST_X_train) + len(MNIST_X_test)\n",
    "blob_test_size = len(MNIST_X_test)/total_samples\n",
    "\n",
    "# Load generated blobs dataset\n",
    "\n",
    "blobs_X, blobs_y = datasets.make_blobs(n_samples=total_samples, centers=10, n_features=MNIST_X_train.shape[1], random_state=0)\n",
    "blobs_X_train, blobs_X_test, blobs_y_train, blobs_y_test = train_test_split(blobs_X, blobs_y, test_size=blob_test_size, shuffle=True)\n",
    "\n",
    "# Keep number of training samples consistent\n",
    "assert (len(blobs_X_train) == len(MNIST_X_train)), print(len(blobs_X_train), len(MNIST_X_train))\n",
    "assert (len(blobs_X_test) == len(MNIST_X_test)), print(len(blobs_X_test), len(MNIST_X_test))\n",
    "\n"
   ]
  },
  {
   "cell_type": "code",
   "execution_count": 3,
   "metadata": {
    "colab": {
     "base_uri": "https://localhost:8080/"
    },
    "id": "kjt7koIvapjT",
    "outputId": "fa31e7ef-6adc-451d-e588-e56a67b98fce"
   },
   "outputs": [
    {
     "name": "stdout",
     "output_type": "stream",
     "text": [
      "time: 545 µs (started: 2021-01-13 18:56:11 -05:00)\n"
     ]
    }
   ],
   "source": [
    "# k-Means clustering\n",
    "def kmeans(X_train, X_test, n_clusters):\n",
    "  kmeans = KMeans(n_clusters=n_clusters, random_state=0)\n",
    "  y_pred_train = kmeans.fit_predict(X_train)\n",
    "  train_centers = kmeans.cluster_centers_\n",
    "\n",
    "  y_pred_test = kmeans.fit_predict(X_test)\n",
    "  test_centers = kmeans.cluster_centers_\n",
    "\n",
    "  return y_pred_train, y_pred_test, train_centers, test_centers\n",
    "  "
   ]
  },
  {
   "cell_type": "code",
   "execution_count": 4,
   "metadata": {
    "colab": {
     "base_uri": "https://localhost:8080/"
    },
    "id": "weGrjR1Ic_QM",
    "outputId": "16e592c9-fa85-4d74-e6cd-f92ef64e9b69"
   },
   "outputs": [
    {
     "name": "stdout",
     "output_type": "stream",
     "text": [
      "time: 1.13 ms (started: 2021-01-13 18:56:11 -05:00)\n"
     ]
    }
   ],
   "source": [
    "# Spectral clustering \n",
    "def spectral(X_train, X_test, n_clusters):\n",
    "  spectral = SpectralClustering(n_clusters=n_clusters, affinity='nearest_neighbors', random_state=0)\n",
    "  y_pred_train = spectral.fit_predict(X_train)\n",
    "  y_pred_test = spectral.fit_predict(X_test)\n",
    "\n",
    "  return y_pred_train, y_pred_test\n"
   ]
  },
  {
   "cell_type": "code",
   "execution_count": 5,
   "metadata": {
    "colab": {
     "base_uri": "https://localhost:8080/"
    },
    "id": "2Yxb4iMbc_bd",
    "outputId": "37d3b32b-71c1-450d-b163-fac9b0b1f7c1"
   },
   "outputs": [
    {
     "name": "stdout",
     "output_type": "stream",
     "text": [
      "time: 725 µs (started: 2021-01-13 18:56:11 -05:00)\n"
     ]
    }
   ],
   "source": [
    "# Evaluation function\n",
    "def evaluate(X, y, y_pred):\n",
    "    print(\"Adjusted Mutual Information Score: %0.3f\" % metrics.adjusted_mutual_info_score(y, y_pred))\n",
    "    print(\"Adjusted Rand Index Score: %0.3f\" % metrics.adjusted_rand_score(y, y_pred))\n",
    "    print(\"Normalized Mutual Information Score: %0.3f\" % metrics.normalized_mutual_info_score(y, y_pred))\n",
    "\n",
    "    print(\"Homogeneity: %0.3f\" % metrics.homogeneity_score(y, y_pred))\n",
    "    print(\"Completeness: %0.3f\" % metrics.completeness_score(y, y_pred))\n",
    "    print(\"V-measure: %0.3f\" % metrics.v_measure_score(y, y_pred))\n",
    "\n",
    "    #print(\"Silhouette Coefficient: %0.3f\" % metrics.silhouette_score(X, y_pred, sample_size=1000))\n",
    "    print()\n",
    "\n"
   ]
  },
  {
   "cell_type": "code",
   "execution_count": null,
   "metadata": {
    "colab": {
     "base_uri": "https://localhost:8080/"
    },
    "id": "sjJB972LfhdY",
    "outputId": "edf1b2d6-4a37-4649-a0ac-9dd60c4593c9"
   },
   "outputs": [],
   "source": [
    "# dimension reduction\n",
    "\n",
    "def cv_score(estimator, X, y):\n",
    "    print(\"here\")\n",
    "    X_reduced = estimator.fit_transform(X)\n",
    "    kmeans = KMeans(n_clusters=len(np.unique(y)), random_state=0)\n",
    "    y_pred = kmeans.fit_predict(X)\n",
    "    return metrics.adjusted_mutual_info_score(y, y_pred)\n",
    "    \n",
    "    \n",
    "\n",
    "def dimension_reduce(dimensions, X_train, X_test, y_train, y_test, n_clusters):    \n",
    "    \n",
    "    param_grid = [{\n",
    "        \"n_neighbors\": [2, 5, 10, 20, 50, 100],\n",
    "        \"metric\": ['euclidean'],\n",
    "        \"min_dist\": np.linspace(0.1, 1, 10)\n",
    "    }]\n",
    "    #cv = [(slice(None), slice(None))]\n",
    "    \n",
    "    \n",
    "    for dim in dimensions:\n",
    "        umapr = umap.UMAP(n_components=dim)\n",
    "        \n",
    "        gs = dcv.GridSearchCV(umapr, param_grid, scoring=cv_score, scheduler='multiprocessing')\n",
    "        gs.fit(X_train, y_train)\n",
    "        \n",
    "        X_train_reduce = gs.best_estimator_.fit_transform(X_train)\n",
    "        X_test_reduce = gs.best_estimator_.fit_transform(X_test)\n",
    "        \n",
    "        y_pred_train, y_pred_test, _, _ = kmeans(X_train_reduce, X_test_reduce, n_clusters)\n",
    "        \n",
    "        print(gs.best_params_)\n",
    "        print(\"KMeans train dimension reduce: \" + str(dim))\n",
    "        evaluate(X_train_reduce ,y_train, y_pred_train)\n",
    "        print(\"KMeans test dimension reduce: \" + str(dim))\n",
    "        evaluate(X_test_reduce ,y_test, y_pred_test)\n",
    "        print()\n",
    "    \n",
    "\n",
    "\n",
    "#dimension_reduce([8], digits_X_train, digits_X_test, digits_y_train, digits_y_test, 10)\n",
    "dimension_reduce([700, 600], MNIST_X_train, MNIST_X_test, MNIST_y_train, MNIST_y_test, 10)"
   ]
  },
  {
   "cell_type": "code",
   "execution_count": null,
   "metadata": {
    "colab": {
     "base_uri": "https://localhost:8080/",
     "height": 743
    },
    "id": "3LyZosoU5njI",
    "outputId": "52766682-3db5-4f40-f467-18f460ac72e4"
   },
   "outputs": [],
   "source": [
    "# Visualization general\n",
    "\n",
    "def visualize(X_train, X_test, y_train, y_test, reduce, title, n_clusters):\n",
    "\n",
    "  X_train_r, X_test_r = reduce(X_train, X_test, 2)\n",
    "\n",
    "\n",
    "  kmy_pred_train, kmy_pred_test, train_centers, test_centers = kmeans(X_train_r, X_test_r,  n_clusters)\n",
    "  spy_pred_train, spy_pred_test = spectral(X_train_r, X_test_r, n_clusters)\n",
    "\n",
    "  \n",
    "  fig=plt.figure(figsize=(14,10))\n",
    "  # Train orginial labels\n",
    "  plt.subplot(2, 3, 1)\n",
    "  plt.gca().set_title('Train Data With Orginial Labels')\n",
    "  plt.scatter(X_train_r[:, 0], X_train_r[:, 1], c= y_train, s=50, cmap='Set3')\n",
    "\n",
    "  # Train kmeans labels\n",
    "  plt.subplot(2, 3, 2)\n",
    "  plt.gca().set_title('Train Data With KMeans Clusters')\n",
    "  plt.scatter(X_train_r[:, 0], X_train_r[:, 1], c= kmy_pred_train, s=50, cmap='Set3')\n",
    "  plt.scatter(train_centers [:, 0], train_centers [:, 1], c='black', s=200, alpha=0.8)\n",
    "\n",
    "  # Train spectral labels\n",
    "  plt.subplot(2, 3, 3)\n",
    "  plt.gca().set_title('Train Data With Spectral Clusters')\n",
    "  plt.scatter(X_train_r[:, 0], X_train_r[:, 1], c= spy_pred_train, s=50, cmap='Set3')\n",
    "\n",
    "\n",
    "  # Test orginial labels\n",
    "  plt.subplot(2, 3, 4)\n",
    "  plt.gca().set_title('Test Data With Orginial Labels')\n",
    "  plt.scatter(X_test_r[:, 0], X_test_r[:, 1], c= y_test, s=50, cmap='Set3')\n",
    "\n",
    "  # Test kmeans labels\n",
    "  plt.subplot(2, 3, 5)\n",
    "  plt.gca().set_title('Test Data With KMeans Clusters')\n",
    "  plt.scatter(X_test_r[:, 0], X_test_r[:, 1], c= kmy_pred_test, s=50, cmap='Set3')\n",
    "  plt.scatter(test_centers[:, 0], test_centers[:, 1], c='black', s=200, alpha=0.8)\n",
    "\n",
    "  # Test spectral labels\n",
    "  plt.subplot(2, 3, 6)\n",
    "  plt.gca().set_title('Test Data With Spectral Clusters')\n",
    "  plt.scatter(X_test_r[:, 0], X_test_r[:, 1], c= spy_pred_test, s=50, cmap='Set3')\n",
    "\n",
    "  fig.suptitle(title + \" Reduction\", fontsize=16)\n",
    "\n",
    "  fig.tight_layout()\n",
    "  fig.subplots_adjust(top=0.93)\n",
    "  plt.show()\n",
    "\n",
    "\n",
    "\n",
    "visualize(digits_X_train, digits_X_test, digits_y_train, digits_y_test, kernel_pcapoly_reduce, \"\", 10)\n"
   ]
  },
  {
   "cell_type": "code",
   "execution_count": null,
   "metadata": {
    "colab": {
     "base_uri": "https://localhost:8080/",
     "height": 1000
    },
    "id": "KHgmQh2OvuB2",
    "outputId": "be76a53e-c24d-45b3-826e-51b08798b3bd"
   },
   "outputs": [],
   "source": [
    "# Digits reduction \n",
    "dimension_reduce([48, 32, 16, 8, 4, 2], digits_X_train, digits_X_test, digits_y_train, digits_y_test, kernel_pcarbf_reduce, 10)\n",
    "#visualize(digits_X_train, digits_X_test, digits_y_train, digits_y_test, som_reduce, \"SOM\", 10)\n",
    "\n",
    "#visualize(digits_X_train, digits_X_test, digits_y_train, digits_y_test, tsne_reduce, \"TSNE\", 10)"
   ]
  },
  {
   "cell_type": "code",
   "execution_count": null,
   "metadata": {
    "colab": {
     "base_uri": "https://localhost:8080/",
     "height": 831
    },
    "id": "AupqNLI3iPz2",
    "outputId": "46ea21ee-dbca-49f8-8760-f0bc82e911d3"
   },
   "outputs": [],
   "source": [
    "# MNIST reduction \n",
    "\n",
    "#dimension_reduce([700, 600, 500, 400, 300, 200, 100, 50], MNIST_X_train, MNIST_X_test, MNIST_y_train, MNIST_y_test,umap_reduce, 10)\n",
    "#dimension_reduce([700, 600, 500, 400, 300, 200, 100, 50], MNIST_X_train, MNIST_X_test, MNIST_y_train, MNIST_y_test,kernel_pcarbf_reduce, 10)\n",
    "\n",
    "\n",
    "#visualize(MNIST_X_train, MNIST_X_test, MNIST_y_train, MNIST_y_test, umap_reduce, \"UMAP Reduce\", 10)\n",
    "#visualize(MNIST_X_train, MNIST_X_test, MNIST_y_train, MNIST_y_test, kernel_pcapoly_reduce, \"Kernel PCA (Poly) Reduce\", 10)\n",
    "#visualize(MNIST_X_train, MNIST_X_test, MNIST_y_train, MNIST_y_test, kernel_pcasig_reduce, \"Kernel PCA (Sigmoid) Reduce\", 10)\n",
    "#visualize(MNIST_X_train, MNIST_X_test, MNIST_y_train, MNIST_y_test, kernel_pcacos_reduce, \"Kernel PCA (Cosine) Reduce\", 10)\n",
    "dimension_reduce([700, 600, 500, 400, 300, 200, 100, 50], MNIST_X_train, MNIST_X_test, MNIST_y_train, MNIST_y_test, kernel_pcarbf_reduce, 10)\n",
    "\n"
   ]
  },
  {
   "cell_type": "code",
   "execution_count": null,
   "metadata": {
    "id": "xSXWg32JInGj"
   },
   "outputs": [],
   "source": [
    "# blobs reduction \n",
    "dimension_reduce([700, 600, 500, 400, 300, 200, 100, 50, 4], blobs_X_train, blobs_X_test, blobs_y_train, blobs_y_test, 10)\n",
    "#visualize_pca(blobs_X_train, blobs_X_test, blobs_y_train, blobs_y_test, 10)\n",
    "#visualize_tsne(blobs_X_train, blobs_X_test, blobs_y_train, blobs_y_test, 10)"
   ]
  },
  {
   "cell_type": "code",
   "execution_count": null,
   "metadata": {
    "colab": {
     "base_uri": "https://localhost:8080/",
     "height": 1000
    },
    "id": "MTtJVK4B6fP-",
    "outputId": "ac33aee3-9bb0-46f4-ddc9-d0b8ef68aede"
   },
   "outputs": [],
   "source": [
    "# fetch 20 reduction \n",
    "#dimension_reduce([ 1000, 500, 300, 200, 100, 50, 20], newsgroups_X_train , newsgroups_X_test , newsgroups_y_train , newsgroups_y_test, 20)\n",
    "visualize_pca(newsgroups_X_train , newsgroups_X_test , newsgroups_y_train , newsgroups_y_test, 20)\n",
    "visualize_tsne(newsgroups_X_train , newsgroups_X_test , newsgroups_y_train , newsgroups_y_test, 20, True)"
   ]
  },
  {
   "cell_type": "code",
   "execution_count": null,
   "metadata": {
    "colab": {
     "base_uri": "https://localhost:8080/",
     "height": 1000
    },
    "id": "-HkBB2QqL8Vm",
    "outputId": "ca30511e-4166-4bf4-d266-1cc840a9fde9"
   },
   "outputs": [],
   "source": [
    "# rcv1 reduction\n",
    "dimension_reduce([ 1000, 500, 300, 200, 100, 50, 20], rcv1_X_train , rcv1_X_test , rcv1_y_train , rcv1_y_test, 103)\n",
    "visualize_pca(rcv1_X_train , rcv1_X_test , rcv1_y_train , rcv1_y_test, 103)\n",
    "visualize_tsne(rcv1_X_train , rcv1_X_test , rcv1_y_train , rcv1_y_test, 103, True)"
   ]
  }
 ],
 "metadata": {
  "colab": {
   "collapsed_sections": [],
   "name": "MNIST_Cluster.ipynb",
   "provenance": []
  },
  "kernelspec": {
   "display_name": "Python 3",
   "language": "python",
   "name": "python3"
  },
  "language_info": {
   "codemirror_mode": {
    "name": "ipython",
    "version": 3
   },
   "file_extension": ".py",
   "mimetype": "text/x-python",
   "name": "python",
   "nbconvert_exporter": "python",
   "pygments_lexer": "ipython3",
   "version": "3.7.9"
  }
 },
 "nbformat": 4,
 "nbformat_minor": 1
}
