{
 "cells": [
  {
   "cell_type": "code",
   "execution_count": 1,
   "metadata": {
    "colab": {
     "base_uri": "https://localhost:8080/"
    },
    "id": "nDnUdfDtY2b_",
    "outputId": "caae535c-93cc-4d13-a87f-448a09002cc7"
   },
   "outputs": [
    {
     "name": "stdout",
     "output_type": "stream",
     "text": [
      "Requirement already satisfied: mnist in /home/adalmia1/anaconda3/lib/python3.7/site-packages (0.2.2)\n",
      "Requirement already satisfied: numpy in /home/adalmia1/anaconda3/lib/python3.7/site-packages (from mnist) (1.19.5)\n",
      "Requirement already satisfied: minisom in /home/adalmia1/anaconda3/lib/python3.7/site-packages (2.2.7)\n"
     ]
    },
    {
     "name": "stderr",
     "output_type": "stream",
     "text": [
      "/home/adalmia1/anaconda3/lib/python3.7/site-packages/umap/__init__.py:9: UserWarning: Tensorflow not installed; ParametricUMAP will be unavailable\n",
      "  warn(\"Tensorflow not installed; ParametricUMAP will be unavailable\")\n"
     ]
    },
    {
     "name": "stdout",
     "output_type": "stream",
     "text": [
      "Requirement already satisfied: ipython-autotime in /home/adalmia1/anaconda3/lib/python3.7/site-packages (0.3.0)\n",
      "Requirement already satisfied: ipython in /home/adalmia1/anaconda3/lib/python3.7/site-packages (from ipython-autotime) (7.19.0)\n",
      "Requirement already satisfied: jedi>=0.10 in /home/adalmia1/anaconda3/lib/python3.7/site-packages (from ipython->ipython-autotime) (0.17.2)\n",
      "Requirement already satisfied: pygments in /home/adalmia1/anaconda3/lib/python3.7/site-packages (from ipython->ipython-autotime) (2.7.3)\n",
      "Requirement already satisfied: pexpect>4.3 in /home/adalmia1/anaconda3/lib/python3.7/site-packages (from ipython->ipython-autotime) (4.8.0)\n",
      "Requirement already satisfied: backcall in /home/adalmia1/anaconda3/lib/python3.7/site-packages (from ipython->ipython-autotime) (0.2.0)\n",
      "Requirement already satisfied: decorator in /home/adalmia1/anaconda3/lib/python3.7/site-packages (from ipython->ipython-autotime) (4.4.2)\n",
      "Requirement already satisfied: setuptools>=18.5 in /home/adalmia1/anaconda3/lib/python3.7/site-packages (from ipython->ipython-autotime) (51.1.2.post20210110)\n",
      "Requirement already satisfied: prompt-toolkit!=3.0.0,!=3.0.1,<3.1.0,>=2.0.0 in /home/adalmia1/anaconda3/lib/python3.7/site-packages (from ipython->ipython-autotime) (3.0.8)\n",
      "Requirement already satisfied: pickleshare in /home/adalmia1/anaconda3/lib/python3.7/site-packages (from ipython->ipython-autotime) (0.7.5)\n",
      "Requirement already satisfied: traitlets>=4.2 in /home/adalmia1/anaconda3/lib/python3.7/site-packages (from ipython->ipython-autotime) (5.0.5)\n",
      "Requirement already satisfied: parso<0.8.0,>=0.7.0 in /home/adalmia1/anaconda3/lib/python3.7/site-packages (from jedi>=0.10->ipython->ipython-autotime) (0.7.0)\n",
      "Requirement already satisfied: ptyprocess>=0.5 in /home/adalmia1/anaconda3/lib/python3.7/site-packages (from pexpect>4.3->ipython->ipython-autotime) (0.7.0)\n",
      "Requirement already satisfied: wcwidth in /home/adalmia1/anaconda3/lib/python3.7/site-packages (from prompt-toolkit!=3.0.0,!=3.0.1,<3.1.0,>=2.0.0->ipython->ipython-autotime) (0.2.5)\n",
      "Requirement already satisfied: ipython-genutils in /home/adalmia1/anaconda3/lib/python3.7/site-packages (from traitlets>=4.2->ipython->ipython-autotime) (0.2.0)\n",
      "time: 736 µs (started: 2021-01-30 07:20:07 -05:00)\n"
     ]
    }
   ],
   "source": [
    "!pip3 install mnist\n",
    "!pip3 install minisom\n",
    "\n",
    "# imports\n",
    "import matplotlib.pyplot as plt\n",
    "import numpy as np\n",
    "import mnist\n",
    "import scipy.misc\n",
    "import math\n",
    "\n",
    "from sklearn import datasets,metrics\n",
    "from sklearn.datasets import fetch_20newsgroups, fetch_rcv1\n",
    "from sklearn.feature_extraction.text import TfidfVectorizer\n",
    "\n",
    "from sklearn.decomposition import PCA, TruncatedSVD, KernelPCA\n",
    "from sklearn.manifold import TSNE\n",
    "import umap\n",
    "from minisom import MiniSom\n",
    "\n",
    "\n",
    "from sklearn.model_selection import train_test_split\n",
    "from sklearn.cluster import KMeans, SpectralClustering\n",
    "\n",
    "from sklearn.metrics.pairwise import euclidean_distances\n",
    "\n",
    "from joblib import Parallel, delayed\n",
    "from tqdm import tqdm\n",
    "\n",
    "!pip install ipython-autotime\n",
    "%load_ext autotime\n"
   ]
  },
  {
   "cell_type": "code",
   "execution_count": 2,
   "metadata": {
    "colab": {
     "base_uri": "https://localhost:8080/"
    },
    "id": "b9pUnfDwZ2II",
    "outputId": "c1ca475e-f422-4da1-d9d9-e661c5dfe795"
   },
   "outputs": [
    {
     "name": "stdout",
     "output_type": "stream",
     "text": [
      "time: 636 ms (started: 2021-01-30 07:20:07 -05:00)\n"
     ]
    }
   ],
   "source": [
    "# Load Digits dataset\n",
    "digits = datasets.load_digits()\n",
    "digits_n_samples = len(digits.images)\n",
    "data = digits.images.reshape((digits_n_samples, -1))\n",
    "digits_X_train, digits_X_test, digits_y_train, digits_y_test = train_test_split(data, digits.target, test_size=0.3, shuffle=True)\n",
    "\n",
    "\n",
    "# Load full MNIST dataset\n",
    "MNIST_X_train = mnist.train_images()\n",
    "MNIST_X_train = MNIST_X_train.reshape((len(MNIST_X_train), -1)) \n",
    "MNIST_y_train = mnist.train_labels()\n",
    "\n",
    "MNIST_X_test = mnist.test_images()\n",
    "MNIST_X_test = MNIST_X_test.reshape((len(MNIST_X_test), -1)) \n",
    "MNIST_y_test = mnist.test_labels()\n",
    "\n",
    "\n",
    "#print(np.median(euclidean_distances(MNIST_X_train)))\n",
    "#print(np.median(euclidean_distances(MNIST_X_test)))\n",
    "\n"
   ]
  },
  {
   "cell_type": "code",
   "execution_count": 3,
   "metadata": {
    "colab": {
     "base_uri": "https://localhost:8080/"
    },
    "id": "kjt7koIvapjT",
    "outputId": "fa31e7ef-6adc-451d-e588-e56a67b98fce"
   },
   "outputs": [
    {
     "name": "stdout",
     "output_type": "stream",
     "text": [
      "time: 678 µs (started: 2021-01-30 07:20:08 -05:00)\n"
     ]
    }
   ],
   "source": [
    "# k-Means clustering\n",
    "def kmeans(X_train, X_test, y_train, y_test, n_clusters):\n",
    "  kmeans = KMeans(n_clusters=n_clusters, random_state=2)\n",
    "  y_pred_train = kmeans.fit_predict(X_train)\n",
    "  train_centers = kmeans.cluster_centers_\n",
    "\n",
    "  y_pred_test = kmeans.fit_predict(X_test)\n",
    "  test_centers = kmeans.cluster_centers_\n",
    "\n",
    "  return y_pred_train, y_pred_test, train_centers, test_centers\n",
    "  "
   ]
  },
  {
   "cell_type": "code",
   "execution_count": 4,
   "metadata": {
    "colab": {
     "base_uri": "https://localhost:8080/"
    },
    "id": "weGrjR1Ic_QM",
    "outputId": "16e592c9-fa85-4d74-e6cd-f92ef64e9b69"
   },
   "outputs": [
    {
     "name": "stdout",
     "output_type": "stream",
     "text": [
      "time: 981 µs (started: 2021-01-30 07:20:08 -05:00)\n"
     ]
    }
   ],
   "source": [
    "# Spectral clustering \n",
    "def spectral(X_train, X_test, y_train, y_test, n_clusters):\n",
    "  med = np.median(euclidean_distances(X_train))\n",
    "  spectral = SpectralClustering(n_clusters=n_clusters, gamma=2*(1/med)**2, random_state=0)\n",
    "  y_pred_train = spectral.fit_predict(X_train)\n",
    "  y_pred_test = spectral.fit_predict(X_test)\n",
    "\n",
    "  return y_pred_train, y_pred_test\n"
   ]
  },
  {
   "cell_type": "code",
   "execution_count": 5,
   "metadata": {
    "colab": {
     "base_uri": "https://localhost:8080/"
    },
    "id": "2Yxb4iMbc_bd",
    "outputId": "37d3b32b-71c1-450d-b163-fac9b0b1f7c1"
   },
   "outputs": [
    {
     "name": "stdout",
     "output_type": "stream",
     "text": [
      "time: 1.03 ms (started: 2021-01-30 07:20:08 -05:00)\n"
     ]
    }
   ],
   "source": [
    "def purity_score(y_true, y_pred):\n",
    "    # compute contingency matrix (also called confusion matrix)\n",
    "    contingency_matrix = metrics.cluster.contingency_matrix(y_true, y_pred)\n",
    "    # return purity\n",
    "    return np.sum(np.amax(contingency_matrix, axis=0)) / np.sum(contingency_matrix) \n",
    "\n",
    "# Evaluation function\n",
    "def evaluate(X, y, y_pred):\n",
    "    print(\"Accurary Score: %0.3f\" % purity_score(y, y_pred))\n",
    "    print(\"Adjusted Mutual Information Score: %0.3f\" % metrics.adjusted_mutual_info_score(y, y_pred))\n",
    "    print(\"Adjusted Rand Index Score: %0.3f\" % metrics.adjusted_rand_score(y, y_pred))\n",
    "    print(\"Normalized Mutual Information Score: %0.3f\" % metrics.normalized_mutual_info_score(y, y_pred))\n",
    "\n",
    "    print(\"Homogeneity: %0.3f\" % metrics.homogeneity_score(y, y_pred))\n",
    "    print(\"Completeness: %0.3f\" % metrics.completeness_score(y, y_pred))\n",
    "    print(\"V-measure: %0.3f\" % metrics.v_measure_score(y, y_pred))\n",
    "    #print(np.unique(y_pred))\n",
    "    print(\"Silhouette Coefficient: %0.3f\" % metrics.silhouette_score(X, y_pred, sample_size=1000))\n",
    "    print()\n",
    "\n"
   ]
  },
  {
   "cell_type": "code",
   "execution_count": 6,
   "metadata": {
    "colab": {
     "base_uri": "https://localhost:8080/"
    },
    "id": "sjJB972LfhdY",
    "outputId": "edf1b2d6-4a37-4649-a0ac-9dd60c4593c9"
   },
   "outputs": [
    {
     "name": "stdout",
     "output_type": "stream",
     "text": [
      "time: 2.51 ms (started: 2021-01-30 07:20:08 -05:00)\n"
     ]
    }
   ],
   "source": [
    "# dimension reduction\n",
    "\n",
    "\n",
    "def pca_reduce(X_train, X_test, dim):\n",
    "  pca = None\n",
    "  if scipy.sparse.issparse(X_train):\n",
    "    pca = TruncatedSVD(n_components=dim)\n",
    "  else:\n",
    "    pca = PCA(n_components=dim)\n",
    "  X_train_pca = pca.fit_transform(X_train)\n",
    "  X_test_pca = pca.fit_transform(X_test)\n",
    "\n",
    "  return X_train_pca, X_test_pca\n",
    "\n",
    "\n",
    "def tsne_reduce(X_train, X_test, dim):\n",
    "  tsne = TSNE(n_components= dim)\n",
    "  X_train_tsne = tsne.fit_transform(X_train)\n",
    "  X_test_tsne = tsne.fit_transform(X_test)\n",
    "\n",
    "  return X_train_tsne, X_test_tsne\n",
    "\n",
    "def umap_reduce(X_train, X_test, dim):\n",
    "  umapr = umap.UMAP(n_components=dim,  n_epochs = 800, n_jobs=1)\n",
    "  X_train_umap = umapr.fit_transform(X_train)\n",
    "  X_test_umap = umapr.fit_transform(X_test)\n",
    "  return X_train_umap, X_test_umap\n",
    "\n",
    "\n",
    "def kernel_pca_reduce(X_train, X_test, dim):\n",
    "  \n",
    "  #kernal_pca = KernelPCA(n_components=dim, kernel='rbf', gamma=2*(1/2610)**2, n_jobs=6)\n",
    "  print(\"here1\")\n",
    "  X_train_kpca = stepwise_kpca(X_train, 2*(1/2610)**2, dim)\n",
    "  X_test_kpca = stepwise_kpca(X_test, 2*(1/2610)**2, dim) #kernal_pca.fit_transform(X_test)\n",
    "\n",
    "  return X_train_kpca, X_test_kpca\n",
    "\n",
    "def som_reduce(X_train, X_test, dim):\n",
    "\n",
    "  grid_size_train = math.ceil(np.sqrt(len(X_train))) \n",
    "  som = MiniSom(grid_size_train, grid_size_train, X_train.shape[1], sigma=4, learning_rate=0.5, neighborhood_function='triangle')\n",
    "  som.pca_weights_init(X_train)\n",
    "  som.train(X_train, 5000, random_order=True, verbose=False)\n",
    "  X_train_som = np.array(Parallel(n_jobs=1)(delayed(som.winner)(x) for x in tqdm(X_train))) \n",
    "  #X_train_som = np.array([som.winner(x) for x in X_train])\n",
    "\n",
    "\n",
    "  grid_size_test = math.ceil(np.sqrt(len(X_test)))\n",
    "  som = MiniSom(grid_size_test, grid_size_test, X_train.shape[1], sigma=4, learning_rate=0.5, neighborhood_function='triangle')\n",
    "  som.pca_weights_init(X_test)\n",
    "  som.train(X_test, 5000, random_order=True, verbose=False)\n",
    "  X_test_som = np.array(Parallel(n_jobs=1)(delayed(som.winner)(x) for x in tqdm(X_test))) \n",
    "\n",
    "\n",
    "\n",
    "  return X_train_som, X_test_som\n",
    "\n",
    "\n",
    "\n",
    "\n",
    "\n",
    "\n",
    "\n",
    "\n",
    "def dimension_reduce(dimensions, X_train, X_test, y_train, y_test, reduce, n_clusters):\n",
    "  y_pred_train, y_pred_test, _, _ = kmeans(X_train, X_test, y_train, y_test, n_clusters)\n",
    "  print(\"Original KMeans\")\n",
    "  evaluate(X_train,y_train,y_pred_train) \n",
    "\n",
    "  y_pred_train, y_pred_test = spectral(X_train, X_test, y_train, y_test, n_clusters)\n",
    "  print(\"Original Spectral\")\n",
    "  evaluate(X_train,y_train,y_pred_train) \n",
    "  \n",
    "  \n",
    "  for dim in dimensions:\n",
    "    #PCA reduction\n",
    "    X_train_pca, X_test_pca = reduce(X_train, X_test, dim)\n",
    "\n",
    "    y_pred_train, y_pred_test, _, _ = kmeans(X_train_pca, X_test_pca, y_train, y_test, n_clusters)\n",
    "    print(\"KMeans dimension reduce: \" + str(dim))\n",
    "    evaluate(X_train_pca,y_train,y_pred_train)\n",
    "\n",
    "    y_pred_train, y_pred_test= spectral(X_train_pca, X_test_pca, y_train, y_test, n_clusters)\n",
    "    print(\"Spectral dimension reduce: \" + str(dim))\n",
    "    evaluate(X_train_pca,y_train,y_pred_train)\n",
    "\n",
    "\n",
    "\n",
    "\n",
    "\n"
   ]
  },
  {
   "cell_type": "code",
   "execution_count": 7,
   "metadata": {
    "colab": {
     "base_uri": "https://localhost:8080/",
     "height": 743
    },
    "id": "3LyZosoU5njI",
    "outputId": "52766682-3db5-4f40-f467-18f460ac72e4"
   },
   "outputs": [
    {
     "data": {
      "image/png": "[encoded data removed]",
      "text/plain": [
       "<Figure size 1008x720 with 6 Axes>"
      ]
     },
     "metadata": {
      "needs_background": "light"
     },
     "output_type": "display_data"
    },
    {
     "name": "stdout",
     "output_type": "stream",
     "text": [
      "time: 23.4 s (started: 2021-01-30 07:20:08 -05:00)\n"
     ]
    }
   ],
   "source": [
    "# Visualization general\n",
    "\n",
    "def visualize(X_train, X_test, y_train, y_test, reduce, title, n_clusters):\n",
    "\n",
    "  X_train_r, X_test_r = reduce(X_train, X_test, 2)\n",
    "\n",
    "\n",
    "  kmy_pred_train, kmy_pred_test, train_centers, test_centers = kmeans(X_train_r, X_test_r, y_train, y_test, n_clusters)\n",
    "  spy_pred_train, spy_pred_test = spectral(X_train_r, X_test_r, y_train, y_test, n_clusters)\n",
    "\n",
    "  \n",
    "  fig=plt.figure(figsize=(14,10))\n",
    "  # Train orginial labels\n",
    "  plt.subplot(2, 3, 1)\n",
    "  plt.gca().set_title('Train Data With Orginial Labels')\n",
    "  plt.scatter(X_train_r[:, 0], X_train_r[:, 1], c= y_train, s=50, cmap='Set3')\n",
    "\n",
    "  # Train kmeans labels\n",
    "  plt.subplot(2, 3, 2)\n",
    "  plt.gca().set_title('Train Data With KMeans Clusters')\n",
    "  plt.scatter(X_train_r[:, 0], X_train_r[:, 1], c= kmy_pred_train, s=50, cmap='Set3')\n",
    "  plt.scatter(train_centers [:, 0], train_centers [:, 1], c='black', s=200, alpha=0.8)\n",
    "\n",
    "  # Train spectral labels\n",
    "  plt.subplot(2, 3, 3)\n",
    "  plt.gca().set_title('Train Data With Spectral Clusters')\n",
    "  plt.scatter(X_train_r[:, 0], X_train_r[:, 1], c= spy_pred_train, s=50, cmap='Set3')\n",
    "\n",
    "\n",
    "  # Test orginial labels\n",
    "  plt.subplot(2, 3, 4)\n",
    "  plt.gca().set_title('Test Data With Orginial Labels')\n",
    "  plt.scatter(X_test_r[:, 0], X_test_r[:, 1], c= y_test, s=50, cmap='Set3')\n",
    "\n",
    "  # Test kmeans labels\n",
    "  plt.subplot(2, 3, 5)\n",
    "  plt.gca().set_title('Test Data With KMeans Clusters')\n",
    "  plt.scatter(X_test_r[:, 0], X_test_r[:, 1], c= kmy_pred_test, s=50, cmap='Set3')\n",
    "  plt.scatter(test_centers[:, 0], test_centers[:, 1], c='black', s=200, alpha=0.8)\n",
    "\n",
    "  # Test spectral labels\n",
    "  plt.subplot(2, 3, 6)\n",
    "  plt.gca().set_title('Test Data With Spectral Clusters')\n",
    "  plt.scatter(X_test_r[:, 0], X_test_r[:, 1], c= spy_pred_test, s=50, cmap='Set3')\n",
    "\n",
    "  fig.suptitle(title + \" Reduction\", fontsize=16)\n",
    "\n",
    "  fig.tight_layout()\n",
    "  fig.subplots_adjust(top=0.93)\n",
    "  plt.show()\n",
    "\n",
    "visualize(digits_X_train, digits_X_test, digits_y_train, digits_y_test,  umap_reduce, \"UMAP Reduce\", 10)\n",
    "\n"
   ]
  },
  {
   "cell_type": "code",
   "execution_count": 8,
   "metadata": {
    "colab": {
     "base_uri": "https://localhost:8080/",
     "height": 1000
    },
    "id": "KHgmQh2OvuB2",
    "outputId": "be76a53e-c24d-45b3-826e-51b08798b3bd"
   },
   "outputs": [
    {
     "name": "stdout",
     "output_type": "stream",
     "text": [
      "time: 348 µs (started: 2021-01-30 07:20:31 -05:00)\n"
     ]
    }
   ],
   "source": [
    "# Digits reduction \n",
    "#dimension_reduce([48, 32, 16, 8, 4, 2], digits_X_train, digits_X_test, digits_y_train, digits_y_test, umap_reduce, 10)\n",
    "#visualize(digits_X_train, digits_X_test, digits_y_train, digits_y_test, som_reduce, \"SOM\", 10)\n",
    "\n",
    "#visualize(digits_X_train, digits_X_test, digits_y_train, digits_y_test, tsne_reduce, \"TSNE\", 10)"
   ]
  },
  {
   "cell_type": "code",
   "execution_count": null,
   "metadata": {
    "colab": {
     "base_uri": "https://localhost:8080/",
     "height": 831
    },
    "id": "AupqNLI3iPz2",
    "outputId": "46ea21ee-dbca-49f8-8760-f0bc82e911d3"
   },
   "outputs": [
    {
     "name": "stdout",
     "output_type": "stream",
     "text": [
      "Original KMeans\n",
      "Accurary Score: 0.583\n",
      "Adjusted Mutual Information Score: 0.498\n",
      "Adjusted Rand Index Score: 0.363\n",
      "Normalized Mutual Information Score: 0.498\n",
      "Homogeneity: 0.494\n",
      "Completeness: 0.501\n",
      "V-measure: 0.498\n",
      "Silhouette Coefficient: 0.055\n",
      "\n",
      "Original Spectral\n",
      "Accurary Score: 0.586\n",
      "Adjusted Mutual Information Score: 0.483\n",
      "Adjusted Rand Index Score: 0.338\n",
      "Normalized Mutual Information Score: 0.483\n",
      "Homogeneity: 0.471\n",
      "Completeness: 0.495\n",
      "V-measure: 0.483\n",
      "Silhouette Coefficient: 0.045\n",
      "\n",
      "KMeans dimension reduce: 700\n",
      "Accurary Score: 0.862\n",
      "Adjusted Mutual Information Score: 0.844\n",
      "Adjusted Rand Index Score: 0.767\n",
      "Normalized Mutual Information Score: 0.844\n",
      "Homogeneity: 0.834\n",
      "Completeness: 0.854\n",
      "V-measure: 0.844\n",
      "Silhouette Coefficient: 0.616\n",
      "\n",
      "Spectral dimension reduce: 700\n",
      "Accurary Score: 0.854\n",
      "Adjusted Mutual Information Score: 0.831\n",
      "Adjusted Rand Index Score: 0.744\n",
      "Normalized Mutual Information Score: 0.831\n",
      "Homogeneity: 0.822\n",
      "Completeness: 0.841\n",
      "V-measure: 0.831\n",
      "Silhouette Coefficient: 0.606\n",
      "\n",
      "KMeans dimension reduce: 600\n",
      "Accurary Score: 0.862\n",
      "Adjusted Mutual Information Score: 0.844\n",
      "Adjusted Rand Index Score: 0.767\n",
      "Normalized Mutual Information Score: 0.844\n",
      "Homogeneity: 0.835\n",
      "Completeness: 0.854\n",
      "V-measure: 0.844\n",
      "Silhouette Coefficient: 0.616\n",
      "\n",
      "Spectral dimension reduce: 600\n",
      "Accurary Score: 0.854\n",
      "Adjusted Mutual Information Score: 0.831\n",
      "Adjusted Rand Index Score: 0.744\n",
      "Normalized Mutual Information Score: 0.831\n",
      "Homogeneity: 0.822\n",
      "Completeness: 0.841\n",
      "V-measure: 0.831\n",
      "Silhouette Coefficient: 0.603\n",
      "\n",
      "KMeans dimension reduce: 500\n",
      "Accurary Score: 0.863\n",
      "Adjusted Mutual Information Score: 0.845\n",
      "Adjusted Rand Index Score: 0.769\n",
      "Normalized Mutual Information Score: 0.845\n",
      "Homogeneity: 0.836\n",
      "Completeness: 0.855\n",
      "V-measure: 0.845\n",
      "Silhouette Coefficient: 0.629\n",
      "\n",
      "Spectral dimension reduce: 500\n",
      "Accurary Score: 0.854\n",
      "Adjusted Mutual Information Score: 0.832\n",
      "Adjusted Rand Index Score: 0.745\n",
      "Normalized Mutual Information Score: 0.832\n",
      "Homogeneity: 0.822\n",
      "Completeness: 0.841\n",
      "V-measure: 0.832\n",
      "Silhouette Coefficient: 0.635\n",
      "\n",
      "KMeans dimension reduce: 400\n",
      "Accurary Score: 0.862\n",
      "Adjusted Mutual Information Score: 0.845\n",
      "Adjusted Rand Index Score: 0.769\n",
      "Normalized Mutual Information Score: 0.845\n",
      "Homogeneity: 0.836\n",
      "Completeness: 0.855\n",
      "V-measure: 0.845\n",
      "Silhouette Coefficient: 0.621\n",
      "\n",
      "Spectral dimension reduce: 400\n",
      "Accurary Score: 0.854\n",
      "Adjusted Mutual Information Score: 0.831\n",
      "Adjusted Rand Index Score: 0.744\n",
      "Normalized Mutual Information Score: 0.831\n",
      "Homogeneity: 0.822\n",
      "Completeness: 0.841\n",
      "V-measure: 0.831\n",
      "Silhouette Coefficient: 0.600\n",
      "\n",
      "KMeans dimension reduce: 300\n",
      "Accurary Score: 0.863\n",
      "Adjusted Mutual Information Score: 0.845\n",
      "Adjusted Rand Index Score: 0.769\n",
      "Normalized Mutual Information Score: 0.845\n",
      "Homogeneity: 0.836\n",
      "Completeness: 0.855\n",
      "V-measure: 0.845\n",
      "Silhouette Coefficient: 0.603\n",
      "\n"
     ]
    }
   ],
   "source": [
    "# MNIST reduction \n",
    "\n",
    "dimension_reduce([700, 600, 500, 400, 300, 200, 100, 50], MNIST_X_train, MNIST_X_test, MNIST_y_train, MNIST_y_test,umap_reduce, 10)\n",
    "#dimension_reduce([2], MNIST_X_train, MNIST_X_test, MNIST_y_train, MNIST_y_test,som_reduce, 10)\n",
    "#visualize(MNIST_X_train, MNIST_X_test, MNIST_y_train, MNIST_y_test, umap_reduce, \"UMAP Reduce\", 10)\n",
    "#visualize(MNIST_X_train, MNIST_X_test, MNIST_y_train, MNIST_y_test, som_reduce, \"SOM Reduce\", 10)\n",
    "#dimension_reduce([200, 100, 50], MNIST_X_train, MNIST_X_test, MNIST_y_train, MNIST_y_test,umap_reduce, 10)\n"
   ]
  },
  {
   "cell_type": "code",
   "execution_count": null,
   "metadata": {
    "id": "xSXWg32JInGj"
   },
   "outputs": [],
   "source": []
  }
 ],
 "metadata": {
  "colab": {
   "collapsed_sections": [],
   "name": "MNIST_Cluster.ipynb",
   "provenance": []
  },
  "kernelspec": {
   "display_name": "Python 3",
   "language": "python",
   "name": "python3"
  },
  "language_info": {
   "codemirror_mode": {
    "name": "ipython",
    "version": 3
   },
   "file_extension": ".py",
   "mimetype": "text/x-python",
   "name": "python",
   "nbconvert_exporter": "python",
   "pygments_lexer": "ipython3",
   "version": "3.7.9"
  }
 },
 "nbformat": 4,
 "nbformat_minor": 1
}
