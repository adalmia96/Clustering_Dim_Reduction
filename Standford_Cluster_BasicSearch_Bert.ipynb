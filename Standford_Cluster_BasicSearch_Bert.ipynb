{
 "cells": [
  {
   "cell_type": "code",
   "execution_count": 1,
   "metadata": {
    "colab": {
     "base_uri": "https://localhost:8080/"
    },
    "id": "nDnUdfDtY2b_",
    "outputId": "caae535c-93cc-4d13-a87f-448a09002cc7"
   },
   "outputs": [
    {
     "name": "stdout",
     "output_type": "stream",
     "text": [
      "Requirement already satisfied: mnist in /home/adalmia1/anaconda3/lib/python3.7/site-packages (0.2.2)\n",
      "Requirement already satisfied: numpy in /home/adalmia1/anaconda3/lib/python3.7/site-packages (from mnist) (1.19.5)\n",
      "Requirement already satisfied: minisom in /home/adalmia1/anaconda3/lib/python3.7/site-packages (2.2.7)\n"
     ]
    },
    {
     "name": "stderr",
     "output_type": "stream",
     "text": [
      "/home/adalmia1/anaconda3/lib/python3.7/site-packages/umap/__init__.py:9: UserWarning: Tensorflow not installed; ParametricUMAP will be unavailable\n",
      "  warn(\"Tensorflow not installed; ParametricUMAP will be unavailable\")\n"
     ]
    },
    {
     "name": "stdout",
     "output_type": "stream",
     "text": [
      "Requirement already satisfied: ipython-autotime in /home/adalmia1/anaconda3/lib/python3.7/site-packages (0.3.0)\n",
      "Requirement already satisfied: ipython in /home/adalmia1/anaconda3/lib/python3.7/site-packages (from ipython-autotime) (7.19.0)\n",
      "Requirement already satisfied: pexpect>4.3 in /home/adalmia1/anaconda3/lib/python3.7/site-packages (from ipython->ipython-autotime) (4.8.0)\n",
      "Requirement already satisfied: pygments in /home/adalmia1/anaconda3/lib/python3.7/site-packages (from ipython->ipython-autotime) (2.7.3)\n",
      "Requirement already satisfied: decorator in /home/adalmia1/anaconda3/lib/python3.7/site-packages (from ipython->ipython-autotime) (4.4.2)\n",
      "Requirement already satisfied: pickleshare in /home/adalmia1/anaconda3/lib/python3.7/site-packages (from ipython->ipython-autotime) (0.7.5)\n",
      "Requirement already satisfied: setuptools>=18.5 in /home/adalmia1/anaconda3/lib/python3.7/site-packages (from ipython->ipython-autotime) (51.1.2.post20210110)\n",
      "Requirement already satisfied: prompt-toolkit!=3.0.0,!=3.0.1,<3.1.0,>=2.0.0 in /home/adalmia1/anaconda3/lib/python3.7/site-packages (from ipython->ipython-autotime) (3.0.8)\n",
      "Requirement already satisfied: traitlets>=4.2 in /home/adalmia1/anaconda3/lib/python3.7/site-packages (from ipython->ipython-autotime) (5.0.5)\n",
      "Requirement already satisfied: backcall in /home/adalmia1/anaconda3/lib/python3.7/site-packages (from ipython->ipython-autotime) (0.2.0)\n",
      "Requirement already satisfied: jedi>=0.10 in /home/adalmia1/anaconda3/lib/python3.7/site-packages (from ipython->ipython-autotime) (0.17.2)\n",
      "Requirement already satisfied: parso<0.8.0,>=0.7.0 in /home/adalmia1/anaconda3/lib/python3.7/site-packages (from jedi>=0.10->ipython->ipython-autotime) (0.7.0)\n",
      "Requirement already satisfied: ptyprocess>=0.5 in /home/adalmia1/anaconda3/lib/python3.7/site-packages (from pexpect>4.3->ipython->ipython-autotime) (0.7.0)\n",
      "Requirement already satisfied: wcwidth in /home/adalmia1/anaconda3/lib/python3.7/site-packages (from prompt-toolkit!=3.0.0,!=3.0.1,<3.1.0,>=2.0.0->ipython->ipython-autotime) (0.2.5)\n",
      "Requirement already satisfied: ipython-genutils in /home/adalmia1/anaconda3/lib/python3.7/site-packages (from traitlets>=4.2->ipython->ipython-autotime) (0.2.0)\n",
      "time: 558 µs (started: 2021-02-08 10:30:17 -05:00)\n"
     ]
    }
   ],
   "source": [
    "!pip3 install mnist\n",
    "!pip3 install minisom\n",
    "\n",
    "# imports\n",
    "import matplotlib.pyplot as plt\n",
    "import numpy as np\n",
    "import mnist\n",
    "import scipy.misc\n",
    "import math\n",
    "import seaborn as sns\n",
    "import pickle\n",
    "\n",
    "from matplotlib.colors import ListedColormap\n",
    "from matplotlib import cm\n",
    "\n",
    "from sklearn import datasets,metrics\n",
    "from sklearn.datasets import fetch_20newsgroups, fetch_rcv1\n",
    "from sklearn.feature_extraction.text import TfidfVectorizer, CountVectorizer\n",
    "\n",
    "from sklearn.decomposition import PCA, TruncatedSVD, KernelPCA\n",
    "from sklearn.manifold import TSNE\n",
    "import umap\n",
    "from minisom import MiniSom\n",
    "from sklearn.feature_extraction import text\n",
    "\n",
    "from sklearn.model_selection import train_test_split, ParameterGrid\n",
    "from sklearn.cluster import KMeans, SpectralClustering, MiniBatchKMeans\n",
    "\n",
    "from sklearn.metrics.pairwise import euclidean_distances\n",
    "\n",
    "from joblib import Parallel, delayed\n",
    "from tqdm import tqdm\n",
    "\n",
    "!pip install ipython-autotime\n",
    "%load_ext autotime"
   ]
  },
  {
   "cell_type": "code",
   "execution_count": 2,
   "metadata": {
    "colab": {
     "base_uri": "https://localhost:8080/"
    },
    "id": "b9pUnfDwZ2II",
    "outputId": "c1ca475e-f422-4da1-d9d9-e661c5dfe795"
   },
   "outputs": [
    {
     "name": "stdout",
     "output_type": "stream",
     "text": [
      "(41170,)\n",
      "(41170, 768)\n",
      "(41170,)\n",
      "time: 2.83 s (started: 2021-02-08 10:30:17 -05:00)\n"
     ]
    }
   ],
   "source": [
    "phrases_id = []\n",
    "text_sent = []\n",
    "label = []\n",
    "\n",
    "datapath = 'data/stanfordSentimentTreebank/dictionary.txt'\n",
    "labelpath = 'data/stanfordSentimentTreebank/sentiment_labels.txt'\n",
    "\n",
    "#print(text.ENGLISH_STOP_WORDS)\n",
    "with open(datapath, 'r', encoding=\"utf8\", errors='ignore') as infile:\n",
    "  for line in infile:\n",
    "    intext = line.replace('\\n','')\n",
    "    intext = intext.split(\"|\")\n",
    "    phrase = intext[0].split()\n",
    "    new_phrase = []\n",
    "    \n",
    "    for p in phrase:\n",
    "      if (p.lower() not in text.ENGLISH_STOP_WORDS):\n",
    "        if str.isdigit(p):\n",
    "          new_phrase.append(\"N\")\n",
    "        else:\n",
    "          new_phrase.append(p.lower())\n",
    "        \n",
    "    if(len(new_phrase) >= 5):\n",
    "      new_phrase = \" \".join(new_phrase)\n",
    "      phrases_id.append(int(intext[1]))\n",
    "      text_sent.append(new_phrase)\n",
    "\n",
    "text_sent = np.array(text_sent)\n",
    "with open(labelpath, 'r', encoding=\"utf8\", errors='ignore') as infile:\n",
    "  for line in infile:\n",
    "    sentiment = line.replace('\\n','')\n",
    "    sentiment_val = float(sentiment.split(\"|\")[1])\n",
    "    if sentiment_val < 0.2:\n",
    "      label.append(0)\n",
    "    elif sentiment_val >= 0.4 and sentiment_val < 0.6:\n",
    "      label.append(1)\n",
    "    elif sentiment_val >= 0.8 and sentiment_val < 1 :\n",
    "      label.append(2)\n",
    "    else:\n",
    "      label.append(-1)\n",
    "\n",
    "label = np.array(label)\n",
    "label  = label[phrases_id]\n",
    "valid = np.where(label != -1)[0].astype(int)\n",
    "\n",
    "text_sent = text_sent[valid]\n",
    "label = label[valid]   \n",
    "      \n",
    "print(label.shape)      \n",
    "vectorizer = TfidfVectorizer(min_df=5, token_pattern='\\S+', stop_words='english')\n",
    "\n",
    "ss_X =  pickle.load( open( \"bert_ss.txt\", \"rb\" ) )  #vectorizer.fit_transform(text_sent)\n",
    "ss_y = label\n",
    "\n",
    "print(ss_X.shape)\n",
    "print(ss_y.shape)\n",
    "      \n",
    "      \n",
    "                            "
   ]
  },
  {
   "cell_type": "code",
   "execution_count": 3,
   "metadata": {
    "colab": {
     "base_uri": "https://localhost:8080/"
    },
    "id": "kjt7koIvapjT",
    "outputId": "fa31e7ef-6adc-451d-e588-e56a67b98fce"
   },
   "outputs": [
    {
     "name": "stdout",
     "output_type": "stream",
     "text": [
      "time: 492 µs (started: 2021-02-08 10:30:20 -05:00)\n"
     ]
    }
   ],
   "source": [
    "# k-Means clustering\n",
    "def kmeans(X_train, n_clusters):\n",
    "  kmeans = KMeans(n_clusters=n_clusters, n_jobs = 1, random_state=2)\n",
    "  y_pred_train = kmeans.fit_predict(X_train)\n",
    "  train_centers = kmeans.cluster_centers_\n",
    "\n",
    "  return y_pred_train\n",
    "  "
   ]
  },
  {
   "cell_type": "code",
   "execution_count": 4,
   "metadata": {
    "colab": {
     "base_uri": "https://localhost:8080/"
    },
    "id": "weGrjR1Ic_QM",
    "outputId": "16e592c9-fa85-4d74-e6cd-f92ef64e9b69"
   },
   "outputs": [
    {
     "name": "stdout",
     "output_type": "stream",
     "text": [
      "time: 18.7 ms (started: 2021-02-08 10:30:20 -05:00)\n"
     ]
    }
   ],
   "source": [
    "# Spectral clustering \n",
    "def spectral(X_train, n_clusters):\n",
    "  #med = np.median(euclidean_distances(X_train)) gamma=2*(1/med)**2,\n",
    "  spectral = SpectralClustering(n_clusters=n_clusters, affinity='nearest_neighbors', random_state=0)\n",
    "  y_pred_train = spectral.fit_predict(X_train)\n",
    "\n",
    "  return y_pred_train\n"
   ]
  },
  {
   "cell_type": "code",
   "execution_count": 5,
   "metadata": {
    "colab": {
     "base_uri": "https://localhost:8080/"
    },
    "id": "2Yxb4iMbc_bd",
    "outputId": "37d3b32b-71c1-450d-b163-fac9b0b1f7c1"
   },
   "outputs": [
    {
     "name": "stdout",
     "output_type": "stream",
     "text": [
      "time: 15.4 ms (started: 2021-02-08 10:30:20 -05:00)\n"
     ]
    }
   ],
   "source": [
    "def purity_score(y_true, y_pred):\n",
    "    # compute contingency matrix (also called confusion matrix)\n",
    "    contingency_matrix = metrics.cluster.contingency_matrix(y_true, y_pred)\n",
    "    # return purity\n",
    "    return np.sum(np.amax(contingency_matrix, axis=0)) / np.sum(contingency_matrix) \n",
    "\n",
    "# Evaluation function\n",
    "def evaluate(X, y, y_pred):\n",
    "    print(\"Accurary Score: %0.3f\" % purity_score(y, y_pred))\n",
    "    print(\"Adjusted Mutual Information Score: %0.3f\" % metrics.adjusted_mutual_info_score(y, y_pred))\n",
    "    print(\"Adjusted Rand Index Score: %0.3f\" % metrics.adjusted_rand_score(y, y_pred))\n",
    "    print(\"Normalized Mutual Information Score: %0.3f\" % metrics.normalized_mutual_info_score(y, y_pred))\n",
    "\n",
    "    print(\"Homogeneity: %0.3f\" % metrics.homogeneity_score(y, y_pred))\n",
    "    print(\"Completeness: %0.3f\" % metrics.completeness_score(y, y_pred))\n",
    "    print(\"V-measure: %0.3f\" % metrics.v_measure_score(y, y_pred))\n",
    "    #print(np.unique(y_pred))\n",
    "    print(\"Silhouette Coefficient: %0.3f\" % metrics.silhouette_score(X, y_pred, sample_size=1000))\n",
    "    print()\n",
    "\n"
   ]
  },
  {
   "cell_type": "code",
   "execution_count": 6,
   "metadata": {
    "colab": {
     "base_uri": "https://localhost:8080/"
    },
    "id": "sjJB972LfhdY",
    "outputId": "edf1b2d6-4a37-4649-a0ac-9dd60c4593c9"
   },
   "outputs": [
    {
     "name": "stderr",
     "output_type": "stream",
     "text": [
      "/home/adalmia1/anaconda3/lib/python3.7/site-packages/sklearn/cluster/_kmeans.py:939: FutureWarning: 'n_jobs' was deprecated in version 0.23 and will be removed in 0.25.\n",
      "  \" removed in 0.25.\", FutureWarning)\n",
      "  0%|          | 0/40 [00:00<?, ?it/s]"
     ]
    },
    {
     "name": "stdout",
     "output_type": "stream",
     "text": [
      "Original KMeans\n",
      "Accurary Score: 0.617\n",
      "Adjusted Mutual Information Score: 0.009\n",
      "Adjusted Rand Index Score: 0.011\n",
      "Normalized Mutual Information Score: 0.009\n",
      "Homogeneity: 0.010\n",
      "Completeness: 0.008\n",
      "V-measure: 0.009\n",
      "Silhouette Coefficient: 0.032\n",
      "\n",
      "Reduce\n"
     ]
    },
    {
     "name": "stderr",
     "output_type": "stream",
     "text": [
      "100%|██████████| 40/40 [32:33<00:00, 48.84s/it]\n"
     ]
    },
    {
     "name": "stdout",
     "output_type": "stream",
     "text": [
      "{'metric': 'euclidean', 'min_dist': 0.1, 'n_neighbors': 15}\n"
     ]
    },
    {
     "name": "stderr",
     "output_type": "stream",
     "text": [
      "/home/adalmia1/anaconda3/lib/python3.7/site-packages/sklearn/cluster/_kmeans.py:939: FutureWarning: 'n_jobs' was deprecated in version 0.23 and will be removed in 0.25.\n",
      "  \" removed in 0.25.\", FutureWarning)\n",
      "  0%|          | 0/40 [00:00<?, ?it/s]"
     ]
    },
    {
     "name": "stdout",
     "output_type": "stream",
     "text": [
      "KMeans dimension reduce: 20\n",
      "Accurary Score: 0.617\n",
      "Adjusted Mutual Information Score: 0.017\n",
      "Adjusted Rand Index Score: -0.021\n",
      "Normalized Mutual Information Score: 0.017\n",
      "Homogeneity: 0.017\n",
      "Completeness: 0.017\n",
      "V-measure: 0.017\n",
      "Silhouette Coefficient: 0.253\n",
      "\n",
      "Reduce\n"
     ]
    },
    {
     "name": "stderr",
     "output_type": "stream",
     "text": [
      "100%|██████████| 40/40 [57:19<00:00, 85.99s/it] \n"
     ]
    },
    {
     "name": "stdout",
     "output_type": "stream",
     "text": [
      "{'metric': 'euclidean', 'min_dist': 0.1, 'n_neighbors': 15}\n"
     ]
    },
    {
     "name": "stderr",
     "output_type": "stream",
     "text": [
      "/home/adalmia1/anaconda3/lib/python3.7/site-packages/sklearn/cluster/_kmeans.py:939: FutureWarning: 'n_jobs' was deprecated in version 0.23 and will be removed in 0.25.\n",
      "  \" removed in 0.25.\", FutureWarning)\n"
     ]
    },
    {
     "name": "stdout",
     "output_type": "stream",
     "text": [
      "KMeans dimension reduce: 100\n",
      "Accurary Score: 0.617\n",
      "Adjusted Mutual Information Score: 0.016\n",
      "Adjusted Rand Index Score: -0.008\n",
      "Normalized Mutual Information Score: 0.016\n",
      "Homogeneity: 0.017\n",
      "Completeness: 0.015\n",
      "V-measure: 0.016\n",
      "Silhouette Coefficient: 0.265\n",
      "\n",
      "time: 2h 15min 17s (started: 2021-02-08 10:30:38 -05:00)\n"
     ]
    }
   ],
   "source": [
    "# dimension reduction\n",
    "#import dill as pickle\n",
    "\n",
    "\n",
    "def umap_reduce(X_train, dim):\n",
    "  umapr = umap.UMAP(n_components=dim, n_epochs = 800, n_jobs=1)\n",
    "  X_train_umap = umapr.fit_transform(X_train)\n",
    "  #X_test_umap = umapr.fit_transform(X_test)\n",
    "  return X_train_umap\n",
    "\n",
    "\n",
    "\n",
    "def cv_score(estimator, g, X, y, n_clusters):\n",
    "  estimator.set_params(**g)\n",
    "  X_r = estimator.fit_transform(X)\n",
    "  y_pred = kmeans(X_r, n_clusters)\n",
    "  return (purity_score(y, y_pred), g)\n",
    "  \n",
    "\n",
    "\n",
    "\n",
    "def dimension_reduce(dimensions, X, y, n_clusters):\n",
    "  y_pred_train = kmeans(X, n_clusters)\n",
    "  print(\"Original KMeans\")\n",
    "  evaluate(X,y,y_pred_train) \n",
    "\n",
    "  #y_pred_train = spectral(X, n_clusters)\n",
    "  #print(\"Original Spectral\")\n",
    "  #evaluate(X ,y,y_pred_train)\n",
    "  \n",
    "  \n",
    "  param_grid = [{\n",
    "        \"n_neighbors\": [15, 25],\n",
    "        \"metric\": ['euclidean', 'cosine', 'correlation', 'jaccard'],\n",
    "        \"min_dist\": np.linspace(0.1, 1, 5)\n",
    "    }]\n",
    "  \n",
    "  param_grid = ParameterGrid(param_grid)\n",
    "  \n",
    "  \n",
    "  for dim in dimensions:\n",
    "    \n",
    "    umapr = umap.UMAP(n_components=dim, n_jobs=1, n_epochs = 400)\n",
    "    print(\"Reduce\")\n",
    "    results = np.array(Parallel(n_jobs=4)(delayed(cv_score)(umapr, g, X, y, n_clusters)  for g in tqdm(param_grid))) \n",
    "    #results = []\n",
    "    #for g in tqdm(param_grid):\n",
    "    #results.append(cv_score(umapr, g, X, y, n_clusters))\n",
    "    \n",
    "    best_param = sorted(results, key=lambda t: t[0], reverse=True)[:1]\n",
    "    best_param = best_param[0][1] \n",
    "    print(best_param)\n",
    "    umapr.set_params(**best_param)\n",
    "    X_umap = umapr.fit_transform(X)\n",
    "    \n",
    "    y_pred_train = kmeans(X_umap,  n_clusters)\n",
    "    print(\"KMeans dimension reduce: \" + str(dim))\n",
    "    evaluate(X_umap,y,y_pred_train)\n",
    "\n",
    "    #y_pred_train = spectral(X_umap, n_clusters)\n",
    "    #print(\"Spectral dimension reduce: \" + str(dim))\n",
    "    #evaluate(X_umap,y,y_pred_train)\n",
    "\n",
    "\n",
    "\n",
    "\n",
    "dimension_reduce([20, 100], ss_X , ss_y, 3)\n"
   ]
  },
  {
   "cell_type": "code",
   "execution_count": 14,
   "metadata": {
    "colab": {
     "base_uri": "https://localhost:8080/",
     "height": 743
    },
    "id": "3LyZosoU5njI",
    "outputId": "52766682-3db5-4f40-f467-18f460ac72e4"
   },
   "outputs": [
    {
     "name": "stderr",
     "output_type": "stream",
     "text": [
      "/home/adalmia1/anaconda3/lib/python3.7/site-packages/sklearn/cluster/_kmeans.py:939: FutureWarning: 'n_jobs' was deprecated in version 0.23 and will be removed in 0.25.\n",
      "  \" removed in 0.25.\", FutureWarning)\n"
     ]
    },
    {
     "ename": "NameError",
     "evalue": "name 'train_centers' is not defined",
     "output_type": "error",
     "traceback": [
      "\u001b[0;31m---------------------------------------------------------------------------\u001b[0m",
      "\u001b[0;31mNameError\u001b[0m                                 Traceback (most recent call last)",
      "\u001b[0;32m<ipython-input-14-566b25f4d1d8>\u001b[0m in \u001b[0;36m<module>\u001b[0;34m\u001b[0m\n\u001b[1;32m     36\u001b[0m \u001b[0;34m\u001b[0m\u001b[0m\n\u001b[1;32m     37\u001b[0m \u001b[0;34m\u001b[0m\u001b[0m\n\u001b[0;32m---> 38\u001b[0;31m \u001b[0mvisualize\u001b[0m\u001b[0;34m(\u001b[0m\u001b[0mss_X\u001b[0m \u001b[0;34m,\u001b[0m \u001b[0mss_y\u001b[0m\u001b[0;34m,\u001b[0m \u001b[0mumap_reduce\u001b[0m\u001b[0;34m,\u001b[0m \u001b[0;34m\"\"\u001b[0m\u001b[0;34m,\u001b[0m \u001b[0;36m3\u001b[0m\u001b[0;34m)\u001b[0m\u001b[0;34m\u001b[0m\u001b[0;34m\u001b[0m\u001b[0m\n\u001b[0m",
      "\u001b[0;32m<ipython-input-14-566b25f4d1d8>\u001b[0m in \u001b[0;36mvisualize\u001b[0;34m(X_train, y_train, reduce, title, n_clusters)\u001b[0m\n\u001b[1;32m     25\u001b[0m   \u001b[0mplt\u001b[0m\u001b[0;34m.\u001b[0m\u001b[0mgca\u001b[0m\u001b[0;34m(\u001b[0m\u001b[0;34m)\u001b[0m\u001b[0;34m.\u001b[0m\u001b[0mset_title\u001b[0m\u001b[0;34m(\u001b[0m\u001b[0;34m'Train Data With KMeans Clusters'\u001b[0m\u001b[0;34m)\u001b[0m\u001b[0;34m\u001b[0m\u001b[0;34m\u001b[0m\u001b[0m\n\u001b[1;32m     26\u001b[0m   \u001b[0mplt\u001b[0m\u001b[0;34m.\u001b[0m\u001b[0mscatter\u001b[0m\u001b[0;34m(\u001b[0m\u001b[0mX_train_r\u001b[0m\u001b[0;34m[\u001b[0m\u001b[0;34m:\u001b[0m\u001b[0;34m,\u001b[0m \u001b[0;36m0\u001b[0m\u001b[0;34m]\u001b[0m\u001b[0;34m,\u001b[0m \u001b[0mX_train_r\u001b[0m\u001b[0;34m[\u001b[0m\u001b[0;34m:\u001b[0m\u001b[0;34m,\u001b[0m \u001b[0;36m1\u001b[0m\u001b[0;34m]\u001b[0m\u001b[0;34m,\u001b[0m \u001b[0mc\u001b[0m\u001b[0;34m=\u001b[0m \u001b[0mkmy_pred_train\u001b[0m\u001b[0;34m,\u001b[0m \u001b[0ms\u001b[0m\u001b[0;34m=\u001b[0m\u001b[0;36m20\u001b[0m\u001b[0;34m,\u001b[0m \u001b[0mcmap\u001b[0m\u001b[0;34m=\u001b[0m\u001b[0mmy_cmap\u001b[0m\u001b[0;34m)\u001b[0m\u001b[0;34m\u001b[0m\u001b[0;34m\u001b[0m\u001b[0m\n\u001b[0;32m---> 27\u001b[0;31m   \u001b[0mplt\u001b[0m\u001b[0;34m.\u001b[0m\u001b[0mscatter\u001b[0m\u001b[0;34m(\u001b[0m\u001b[0mtrain_centers\u001b[0m \u001b[0;34m[\u001b[0m\u001b[0;34m:\u001b[0m\u001b[0;34m,\u001b[0m \u001b[0;36m0\u001b[0m\u001b[0;34m]\u001b[0m\u001b[0;34m,\u001b[0m \u001b[0mtrain_centers\u001b[0m \u001b[0;34m[\u001b[0m\u001b[0;34m:\u001b[0m\u001b[0;34m,\u001b[0m \u001b[0;36m1\u001b[0m\u001b[0;34m]\u001b[0m\u001b[0;34m,\u001b[0m \u001b[0mc\u001b[0m\u001b[0;34m=\u001b[0m\u001b[0;34m'black'\u001b[0m\u001b[0;34m,\u001b[0m \u001b[0ms\u001b[0m\u001b[0;34m=\u001b[0m\u001b[0;36m100\u001b[0m\u001b[0;34m,\u001b[0m \u001b[0malpha\u001b[0m\u001b[0;34m=\u001b[0m\u001b[0;36m0.8\u001b[0m\u001b[0;34m)\u001b[0m\u001b[0;34m\u001b[0m\u001b[0;34m\u001b[0m\u001b[0m\n\u001b[0m\u001b[1;32m     28\u001b[0m \u001b[0;34m\u001b[0m\u001b[0m\n\u001b[1;32m     29\u001b[0m \u001b[0;34m\u001b[0m\u001b[0m\n",
      "\u001b[0;31mNameError\u001b[0m: name 'train_centers' is not defined"
     ]
    },
    {
     "data": {
      "image/png": "[encoded data removed]",
      "text/plain": [
       "<Figure size 576x360 with 2 Axes>"
      ]
     },
     "metadata": {
      "needs_background": "light"
     },
     "output_type": "display_data"
    },
    {
     "name": "stdout",
     "output_type": "stream",
     "text": [
      "time: 3min 32s (started: 2021-02-07 17:04:14 -05:00)\n"
     ]
    }
   ],
   "source": [
    "# Visualization general\n",
    "\n",
    "def visualize(X_train, y_train, reduce, title, n_clusters):\n",
    " \n",
    "  colors = []\n",
    "  colors += cm.get_cmap(\"Set3\").colors\n",
    "  colors += cm.get_cmap(\"Set2\").colors\n",
    "  my_cmap = ListedColormap(colors)\n",
    "  \n",
    "  X_train_r = reduce(X_train, 2)\n",
    " \n",
    "\n",
    "  kmy_pred_train = kmeans(X_train_r, n_clusters)\n",
    "  #spy_pred_train, spy_pred_test = spectral(X_train_r, X_test_r, y_train, y_test, n_clusters)\n",
    "\n",
    "  \n",
    "  fig=plt.figure(figsize=(8,5))\n",
    "  # Train orginial labels\n",
    "  plt.subplot(1, 2, 1)\n",
    "  plt.gca().set_title('Train Data With Orginial Labels')\n",
    "  plt.scatter(X_train_r[:, 0], X_train_r[:, 1], c= y_train, s=20, cmap=my_cmap)\n",
    "\n",
    "  # Train kmeans labels\n",
    "  plt.subplot(1, 2, 2)\n",
    "  plt.gca().set_title('Train Data With KMeans Clusters')\n",
    "  plt.scatter(X_train_r[:, 0], X_train_r[:, 1], c= kmy_pred_train, s=20, cmap=my_cmap)\n",
    "  #plt.scatter(train_centers [:, 0], train_centers [:, 1], c='black', s=100, alpha=0.8)\n",
    "\n",
    "\n",
    "  fig.suptitle(title + \" Reduction\", fontsize=16)\n",
    "\n",
    "  fig.tight_layout()\n",
    "  fig.subplots_adjust(top=0.90)\n",
    "  plt.show()\n",
    "\n",
    "\n",
    "\n",
    "visualize(ss_X , ss_y, umap_reduce, \"\", 3)\n"
   ]
  },
  {
   "cell_type": "code",
   "execution_count": null,
   "metadata": {
    "colab": {
     "base_uri": "https://localhost:8080/",
     "height": 1000
    },
    "id": "KHgmQh2OvuB2",
    "outputId": "be76a53e-c24d-45b3-826e-51b08798b3bd"
   },
   "outputs": [],
   "source": [
    "# Digits reduction \n",
    "#dimension_reduce([48, 32, 16, 8, 4, 2], digits_X_train, digits_X_test, digits_y_train, digits_y_test, kernel_pcarbf_reduce, 10)\n",
    "#visualize(digits_X_train, digits_X_test, digits_y_train, digits_y_test, som_reduce, \"SOM\", 10)\n",
    "\n",
    "#visualize(digits_X_train, digits_X_test, digits_y_train, digits_y_test, tsne_reduce, \"TSNE\", 10)"
   ]
  },
  {
   "cell_type": "code",
   "execution_count": null,
   "metadata": {
    "colab": {
     "base_uri": "https://localhost:8080/",
     "height": 831
    },
    "id": "AupqNLI3iPz2",
    "outputId": "46ea21ee-dbca-49f8-8760-f0bc82e911d3"
   },
   "outputs": [],
   "source": []
  },
  {
   "cell_type": "code",
   "execution_count": null,
   "metadata": {
    "id": "xSXWg32JInGj"
   },
   "outputs": [],
   "source": []
  },
  {
   "cell_type": "code",
   "execution_count": null,
   "metadata": {
    "colab": {
     "base_uri": "https://localhost:8080/",
     "height": 1000
    },
    "id": "MTtJVK4B6fP-",
    "outputId": "ac33aee3-9bb0-46f4-ddc9-d0b8ef68aede"
   },
   "outputs": [],
   "source": [
    "# fetch 20 reduction \n",
    "#dimension_reduce([ 1000, 500, 300, 200, 100, 50, 20], newsgroups_X_train , newsgroups_X_test , newsgroups_y_train , newsgroups_y_test, 20)\n",
    "\n",
    "#PCA\n",
    "#visualize(newsgroups_X_train , newsgroups_X_test , newsgroups_y_train, newsgroups_y_test, pca_reduce, \"PCA\", 20)"
   ]
  },
  {
   "cell_type": "code",
   "execution_count": null,
   "metadata": {},
   "outputs": [],
   "source": [
    "dimension_reduce([7500, 5000, 2500, 1000, 500, 250, 50, 20], newsgroups_X_train , newsgroups_X_test , newsgroups_y_train, newsgroups_y_test, umap_reduce, 20)"
   ]
  },
  {
   "cell_type": "code",
   "execution_count": null,
   "metadata": {},
   "outputs": [],
   "source": [
    "dimension_reduce([7500, 5000, 2500, 1000, 500, 250, 50, 20], newsgroups_X_train , newsgroups_X_test , newsgroups_y_train, newsgroups_y_test, pca_reduce, 20)"
   ]
  },
  {
   "cell_type": "code",
   "execution_count": null,
   "metadata": {
    "colab": {
     "base_uri": "https://localhost:8080/",
     "height": 1000
    },
    "id": "-HkBB2QqL8Vm",
    "outputId": "ca30511e-4166-4bf4-d266-1cc840a9fde9"
   },
   "outputs": [],
   "source": [
    "# rcv1 reduction\n",
    "#dimension_reduce([ 1000, 500, 300, 200, 100, 50, 20], rcv1_X_train , rcv1_X_test , rcv1_y_train , rcv1_y_test, 103)\n",
    "#visualize_pca(rcv1_X_train , rcv1_X_test , rcv1_y_train , rcv1_y_test, 103)\n",
    "#visualize_tsne(rcv1_X_train , rcv1_X_test , rcv1_y_train , rcv1_y_test, 103, True)"
   ]
  },
  {
   "cell_type": "code",
   "execution_count": null,
   "metadata": {},
   "outputs": [],
   "source": []
  }
 ],
 "metadata": {
  "colab": {
   "collapsed_sections": [],
   "name": "MNIST_Cluster.ipynb",
   "provenance": []
  },
  "kernelspec": {
   "display_name": "Python 3",
   "language": "python",
   "name": "python3"
  },
  "language_info": {
   "codemirror_mode": {
    "name": "ipython",
    "version": 3
   },
   "file_extension": ".py",
   "mimetype": "text/x-python",
   "name": "python",
   "nbconvert_exporter": "python",
   "pygments_lexer": "ipython3",
   "version": "3.7.9"
  }
 },
 "nbformat": 4,
 "nbformat_minor": 1
}
