{
 "cells": [
  {
   "cell_type": "code",
   "execution_count": 8,
   "metadata": {
    "colab": {
     "base_uri": "https://localhost:8080/"
    },
    "id": "nDnUdfDtY2b_",
    "outputId": "caae535c-93cc-4d13-a87f-448a09002cc7"
   },
   "outputs": [
    {
     "name": "stdout",
     "output_type": "stream",
     "text": [
      "Requirement already satisfied: mnist in /home/adalmia1/anaconda3/lib/python3.7/site-packages (0.2.2)\n",
      "Requirement already satisfied: numpy in /home/adalmia1/anaconda3/lib/python3.7/site-packages (from mnist) (1.19.5)\n",
      "Requirement already satisfied: minisom in /home/adalmia1/anaconda3/lib/python3.7/site-packages (2.2.7)\n",
      "Requirement already satisfied: ipython-autotime in /home/adalmia1/anaconda3/lib/python3.7/site-packages (0.3.0)\n",
      "Requirement already satisfied: ipython in /home/adalmia1/anaconda3/lib/python3.7/site-packages (from ipython-autotime) (7.19.0)\n",
      "Requirement already satisfied: pickleshare in /home/adalmia1/anaconda3/lib/python3.7/site-packages (from ipython->ipython-autotime) (0.7.5)\n",
      "Requirement already satisfied: setuptools>=18.5 in /home/adalmia1/anaconda3/lib/python3.7/site-packages (from ipython->ipython-autotime) (51.1.2.post20210110)\n",
      "Requirement already satisfied: backcall in /home/adalmia1/anaconda3/lib/python3.7/site-packages (from ipython->ipython-autotime) (0.2.0)\n",
      "Requirement already satisfied: jedi>=0.10 in /home/adalmia1/anaconda3/lib/python3.7/site-packages (from ipython->ipython-autotime) (0.17.2)\n",
      "Requirement already satisfied: pygments in /home/adalmia1/anaconda3/lib/python3.7/site-packages (from ipython->ipython-autotime) (2.7.3)\n",
      "Requirement already satisfied: decorator in /home/adalmia1/anaconda3/lib/python3.7/site-packages (from ipython->ipython-autotime) (4.4.2)\n",
      "Requirement already satisfied: traitlets>=4.2 in /home/adalmia1/anaconda3/lib/python3.7/site-packages (from ipython->ipython-autotime) (5.0.5)\n",
      "Requirement already satisfied: prompt-toolkit!=3.0.0,!=3.0.1,<3.1.0,>=2.0.0 in /home/adalmia1/anaconda3/lib/python3.7/site-packages (from ipython->ipython-autotime) (3.0.8)\n",
      "Requirement already satisfied: pexpect>4.3 in /home/adalmia1/anaconda3/lib/python3.7/site-packages (from ipython->ipython-autotime) (4.8.0)\n",
      "Requirement already satisfied: parso<0.8.0,>=0.7.0 in /home/adalmia1/anaconda3/lib/python3.7/site-packages (from jedi>=0.10->ipython->ipython-autotime) (0.7.0)\n",
      "Requirement already satisfied: ptyprocess>=0.5 in /home/adalmia1/anaconda3/lib/python3.7/site-packages (from pexpect>4.3->ipython->ipython-autotime) (0.7.0)\n",
      "Requirement already satisfied: wcwidth in /home/adalmia1/anaconda3/lib/python3.7/site-packages (from prompt-toolkit!=3.0.0,!=3.0.1,<3.1.0,>=2.0.0->ipython->ipython-autotime) (0.2.5)\n",
      "Requirement already satisfied: ipython-genutils in /home/adalmia1/anaconda3/lib/python3.7/site-packages (from traitlets>=4.2->ipython->ipython-autotime) (0.2.0)\n",
      "The autotime extension is already loaded. To reload it, use:\n",
      "  %reload_ext autotime\n",
      "time: 11.2 s (started: 2021-02-06 19:08:39 -05:00)\n"
     ]
    }
   ],
   "source": [
    "!pip3 install mnist\n",
    "!pip3 install minisom\n",
    "\n",
    "# imports\n",
    "import matplotlib.pyplot as plt\n",
    "import numpy as np\n",
    "import mnist\n",
    "import scipy.misc\n",
    "import math\n",
    "import seaborn as sns\n",
    "\n",
    "from matplotlib.colors import ListedColormap\n",
    "from matplotlib import cm\n",
    "\n",
    "from sklearn import datasets,metrics\n",
    "from sklearn.datasets import fetch_20newsgroups, fetch_rcv1\n",
    "from sklearn.feature_extraction.text import TfidfVectorizer, CountVectorizer\n",
    "\n",
    "from sklearn.decomposition import PCA, TruncatedSVD, KernelPCA\n",
    "from sklearn.manifold import TSNE\n",
    "import umap\n",
    "from minisom import MiniSom\n",
    "\n",
    "\n",
    "from sklearn.model_selection import train_test_split\n",
    "from sklearn.cluster import KMeans, SpectralClustering, MiniBatchKMeans\n",
    "\n",
    "from sklearn.metrics.pairwise import euclidean_distances\n",
    "\n",
    "from joblib import Parallel, delayed\n",
    "from tqdm import tqdm\n",
    "\n",
    "!pip install ipython-autotime\n",
    "%load_ext autotime"
   ]
  },
  {
   "cell_type": "code",
   "execution_count": 9,
   "metadata": {
    "colab": {
     "base_uri": "https://localhost:8080/"
    },
    "id": "b9pUnfDwZ2II",
    "outputId": "c1ca475e-f422-4da1-d9d9-e661c5dfe795"
   },
   "outputs": [
    {
     "name": "stdout",
     "output_type": "stream",
     "text": [
      "(18846, 34880)\n",
      "time: 8.51 s (started: 2021-02-06 19:08:50 -05:00)\n"
     ]
    }
   ],
   "source": [
    "# Load Digits dataset\n",
    "digits = datasets.load_digits()\n",
    "digits_n_samples = len(digits.images)\n",
    "data = digits.images.reshape((digits_n_samples, -1))\n",
    "digits_X_train, digits_X_test, digits_y_train, digits_y_test = train_test_split(data, digits.target, test_size=0.3, shuffle=True)\n",
    "\n",
    "\n",
    "# Load full MNIST dataset\n",
    "MNIST_X_train = mnist.train_images()\n",
    "MNIST_X_train = MNIST_X_train.reshape((len(MNIST_X_train), -1)) \n",
    "MNIST_y_train = mnist.train_labels()\n",
    "\n",
    "MNIST_X_test = mnist.test_images()\n",
    "MNIST_X_test = MNIST_X_test.reshape((len(MNIST_X_test), -1)) \n",
    "MNIST_y_test = mnist.test_labels()\n",
    "\n",
    "total_samples = len(MNIST_X_train) + len(MNIST_X_test)\n",
    "blob_test_size = len(MNIST_X_test)/total_samples\n",
    "\n",
    "\n",
    "\n",
    "#Load the 20NewsGroups\n",
    "#Load the 20NewsGroups\n",
    "vectorizer = TfidfVectorizer(min_df=5, stop_words='english') \n",
    "\n",
    "newsgroups_train = fetch_20newsgroups(subset='all')\n",
    "newsgroups_X_train = vectorizer.fit_transform(newsgroups_train.data).toarray()\n",
    "newsgroups_y_train = newsgroups_train.target\n",
    "print(newsgroups_X_train.shape)\n",
    "\n",
    "\n",
    "\n",
    "\n",
    "#Load the RCV dataset\n",
    "#rcv1_train = fetch_rcv1(subset='train')\n",
    "#rcv1_X_train = newsgroups_train.data\n",
    "#rcv1_y_train = newsgroups_train.target\n",
    "\n",
    "#rcv1_test = fetch_rcv1(subset='test')\n",
    "#rcv1_X_test = newsgroups_test.data\n",
    "#rcv1_y_test = newsgroups_test.target\n",
    "\n",
    "\n"
   ]
  },
  {
   "cell_type": "code",
   "execution_count": 10,
   "metadata": {
    "colab": {
     "base_uri": "https://localhost:8080/"
    },
    "id": "kjt7koIvapjT",
    "outputId": "fa31e7ef-6adc-451d-e588-e56a67b98fce"
   },
   "outputs": [
    {
     "name": "stdout",
     "output_type": "stream",
     "text": [
      "time: 567 µs (started: 2021-02-06 19:08:58 -05:00)\n"
     ]
    }
   ],
   "source": [
    "# k-Means clustering\n",
    "def kmeans(X_train, n_clusters):\n",
    "  kmeans = KMeans(n_clusters=n_clusters, random_state=42)\n",
    "  y_pred_train = kmeans.fit_predict(X_train)\n",
    "\n",
    "  return y_pred_train\n",
    "  "
   ]
  },
  {
   "cell_type": "code",
   "execution_count": 11,
   "metadata": {
    "colab": {
     "base_uri": "https://localhost:8080/"
    },
    "id": "weGrjR1Ic_QM",
    "outputId": "16e592c9-fa85-4d74-e6cd-f92ef64e9b69"
   },
   "outputs": [
    {
     "name": "stdout",
     "output_type": "stream",
     "text": [
      "time: 849 µs (started: 2021-02-06 19:08:58 -05:00)\n"
     ]
    }
   ],
   "source": [
    "# Spectral clustering \n",
    "def spectral(X_train, n_clusters):\n",
    "  #med = np.median(euclidean_distances(X_train))\n",
    "  spectral = SpectralClustering(n_clusters=n_clusters, random_state=0)\n",
    "  y_pred_train = spectral.fit_predict(X_train)\n",
    "  #y_pred_test = spectral.fit_predict(X_test)\n",
    "\n",
    "  return y_pred_train#y_pred_test\n"
   ]
  },
  {
   "cell_type": "code",
   "execution_count": 12,
   "metadata": {
    "colab": {
     "base_uri": "https://localhost:8080/"
    },
    "id": "2Yxb4iMbc_bd",
    "outputId": "37d3b32b-71c1-450d-b163-fac9b0b1f7c1"
   },
   "outputs": [
    {
     "name": "stdout",
     "output_type": "stream",
     "text": [
      "time: 1.32 ms (started: 2021-02-06 19:08:58 -05:00)\n"
     ]
    }
   ],
   "source": [
    "def purity_score(y_true, y_pred):\n",
    "    # compute contingency matrix (also called confusion matrix)\n",
    "    contingency_matrix = metrics.cluster.contingency_matrix(y_true, y_pred)\n",
    "    # return purity\n",
    "    return np.sum(np.amax(contingency_matrix, axis=0)) / np.sum(contingency_matrix) \n",
    "\n",
    "# Evaluation function\n",
    "def evaluate(X, y, y_pred):\n",
    "    print(\"Accurary Score: %0.3f\" % purity_score(y, y_pred))\n",
    "    print(\"Adjusted Mutual Information Score: %0.3f\" % metrics.adjusted_mutual_info_score(y, y_pred))\n",
    "    print(\"Adjusted Rand Index Score: %0.3f\" % metrics.adjusted_rand_score(y, y_pred))\n",
    "    print(\"Normalized Mutual Information Score: %0.3f\" % metrics.normalized_mutual_info_score(y, y_pred))\n",
    "\n",
    "    print(\"Homogeneity: %0.3f\" % metrics.homogeneity_score(y, y_pred))\n",
    "    print(\"Completeness: %0.3f\" % metrics.completeness_score(y, y_pred))\n",
    "    print(\"V-measure: %0.3f\" % metrics.v_measure_score(y, y_pred))\n",
    "    #print(np.unique(y_pred))\n",
    "    print(\"Silhouette Coefficient: %0.3f\" % metrics.silhouette_score(X, y_pred, sample_size=1000))\n",
    "    print()\n",
    "\n"
   ]
  },
  {
   "cell_type": "code",
   "execution_count": 13,
   "metadata": {
    "colab": {
     "base_uri": "https://localhost:8080/"
    },
    "id": "sjJB972LfhdY",
    "outputId": "edf1b2d6-4a37-4649-a0ac-9dd60c4593c9"
   },
   "outputs": [
    {
     "name": "stdout",
     "output_type": "stream",
     "text": [
      "Reduce\n",
      "UMAP(dens_frac=0.0, dens_lambda=0.0, min_dist=1, n_components=700, n_jobs=1,\n",
      "     n_neighbors=25, verbose=True)\n",
      "Construct fuzzy simplicial set\n",
      "Sat Feb  6 19:09:03 2021 Finding Nearest Neighbors\n",
      "Sat Feb  6 19:09:03 2021 Building RP forest with 12 trees\n",
      "Sat Feb  6 19:09:52 2021 NN descent for 14 iterations\n",
      "\t 1  /  14\n",
      "\t 2  /  14\n",
      "\t 3  /  14\n",
      "\t 4  /  14\n",
      "\t 5  /  14\n",
      "\t 6  /  14\n",
      "\tStopping threshold met -- exiting after 6 iterations\n",
      "Sat Feb  6 19:16:25 2021 Finished Nearest Neighbor Search\n",
      "Sat Feb  6 19:16:26 2021 Construct embedding\n",
      "\tcompleted  0  /  200 epochs\n",
      "\tcompleted  20  /  200 epochs\n",
      "\tcompleted  40  /  200 epochs\n",
      "\tcompleted  60  /  200 epochs\n",
      "\tcompleted  80  /  200 epochs\n",
      "\tcompleted  100  /  200 epochs\n",
      "\tcompleted  120  /  200 epochs\n",
      "\tcompleted  140  /  200 epochs\n",
      "\tcompleted  160  /  200 epochs\n",
      "\tcompleted  180  /  200 epochs\n",
      "Sat Feb  6 19:26:39 2021 Finished embedding\n",
      "UMAP(dens_frac=0.0, dens_lambda=0.0, min_dist=1, n_components=500, n_jobs=1,\n",
      "     n_neighbors=25, verbose=True)\n",
      "Construct fuzzy simplicial set\n",
      "Sat Feb  6 19:26:44 2021 Finding Nearest Neighbors\n",
      "Sat Feb  6 19:26:44 2021 Building RP forest with 12 trees\n",
      "Sat Feb  6 19:26:45 2021 NN descent for 14 iterations\n",
      "\t 1  /  14\n",
      "\t 2  /  14\n",
      "\t 3  /  14\n",
      "\tStopping threshold met -- exiting after 3 iterations\n",
      "Sat Feb  6 19:26:50 2021 Finished Nearest Neighbor Search\n",
      "Sat Feb  6 19:26:51 2021 Construct embedding\n",
      "\tcompleted  0  /  200 epochs\n",
      "\tcompleted  20  /  200 epochs\n",
      "\tcompleted  40  /  200 epochs\n",
      "\tcompleted  60  /  200 epochs\n",
      "\tcompleted  80  /  200 epochs\n",
      "\tcompleted  100  /  200 epochs\n",
      "\tcompleted  120  /  200 epochs\n",
      "\tcompleted  140  /  200 epochs\n",
      "\tcompleted  160  /  200 epochs\n",
      "\tcompleted  180  /  200 epochs\n",
      "Sat Feb  6 19:32:33 2021 Finished embedding\n",
      "KMeans dimension reduce: 500\n",
      "Accurary Score: 0.628\n",
      "Adjusted Mutual Information Score: 0.547\n",
      "Adjusted Rand Index Score: 0.420\n",
      "Normalized Mutual Information Score: 0.549\n",
      "Homogeneity: 0.537\n",
      "Completeness: 0.561\n",
      "V-measure: 0.549\n",
      "Silhouette Coefficient: 0.220\n",
      "\n",
      "time: 23min 51s (started: 2021-02-06 19:08:58 -05:00)\n"
     ]
    }
   ],
   "source": [
    "# dimension reduction\n",
    "\n",
    "\n",
    "def pca_reduce(X_train, dim):\n",
    "  pca = None\n",
    "  if scipy.sparse.issparse(X_train):\n",
    "    pca = TruncatedSVD(n_components=dim)\n",
    "  else:\n",
    "    pca = PCA(n_components=dim)\n",
    "  X_train_pca = pca.fit_transform(X_train)\n",
    "\n",
    "  return X_train_pca\n",
    "\n",
    "\n",
    "def tsne_reduce(X_train, dim):\n",
    "  tsne = TSNE(n_components= dim)\n",
    "  X_train_tsne = tsne.fit_transform(X_train)\n",
    "\n",
    "  return X_train_tsne \n",
    "\n",
    "def umap_reduce(X_train, dim):\n",
    "  umapr = umap.UMAP(n_components=700, n_neighbors = 25, min_dist = 1,  n_jobs=1, verbose = True)\n",
    "  X_train_umap = umapr.fit_transform(X_train)\n",
    "  umapr = umap.UMAP(n_components=dim, n_neighbors = 25, min_dist = 1,  n_jobs=1, verbose = True)\n",
    "  X_train_umap = umapr.fit_transform(X_train_umap)\n",
    "  return X_train_umap\n",
    "\n",
    "\n",
    "def kernel_pcarbf_reduce(X_train, dim):\n",
    "  kernal_pca = KernelPCA(n_components=dim, kernel='rbf', gamma=  2*(1/19)**2)\n",
    "  X_train_kpca = kernal_pca.fit_transform(X_train)\n",
    "  \n",
    "  return X_train_kpca\n",
    "\n",
    "\n",
    "\n",
    "\n",
    "\n",
    "\n",
    "\n",
    "\n",
    "def dimension_reduce(dimensions, X_train, y_train, reduce, n_clusters):\n",
    "  #y_pred_train = kmeans(X_train, n_clusters)\n",
    "  #print(\"Original KMeans\")\n",
    "  #evaluate(X_train,y_train,y_pred_train) \n",
    "\n",
    "  \n",
    "  \n",
    "  for dim in dimensions:\n",
    "    #reduction\n",
    "    print(\"Reduce\")\n",
    "    X_train_pca = reduce(X_train,  dim)\n",
    "    \n",
    "    y_pred_train  = kmeans(X_train_pca, n_clusters)\n",
    "    print(\"KMeans dimension reduce: \" + str(dim))\n",
    "    evaluate(X_train_pca,y_train,y_pred_train)\n",
    "\n",
    "\n",
    "\n",
    "\n",
    "\n",
    "dimension_reduce([500], newsgroups_X_train , newsgroups_y_train,  umap_reduce, 20)"
   ]
  },
  {
   "cell_type": "code",
   "execution_count": 14,
   "metadata": {
    "colab": {
     "base_uri": "https://localhost:8080/",
     "height": 743
    },
    "id": "3LyZosoU5njI",
    "outputId": "52766682-3db5-4f40-f467-18f460ac72e4"
   },
   "outputs": [
    {
     "name": "stdout",
     "output_type": "stream",
     "text": [
      "time: 2.03 ms (started: 2021-02-06 19:32:50 -05:00)\n"
     ]
    }
   ],
   "source": [
    "# Visualization general\n",
    "\n",
    "def visualize(X_train, X_test, y_train, y_test, reduce, title, n_clusters):\n",
    " \n",
    "  colors = []\n",
    "  colors += cm.get_cmap(\"Set3\").colors\n",
    "  colors += cm.get_cmap(\"Set2\").colors\n",
    "  my_cmap = ListedColormap(colors)\n",
    "  \n",
    "  X_train_r, X_test_r = reduce(X_train, X_test, 2)\n",
    " \n",
    "\n",
    "  kmy_pred_train, kmy_pred_test, train_centers, test_centers = kmeans(X_train_r, X_test_r, y_train, y_test, n_clusters)\n",
    "  spy_pred_train, spy_pred_test = spectral(X_train_r, X_test_r, y_train, y_test, n_clusters)\n",
    "\n",
    "  \n",
    "  fig=plt.figure(figsize=(14,10))\n",
    "  # Train orginial labels\n",
    "  plt.subplot(2, 3, 1)\n",
    "  plt.gca().set_title('Train Data With Orginial Labels')\n",
    "  plt.scatter(X_train_r[:, 0], X_train_r[:, 1], c= y_train, s=20, cmap=my_cmap)\n",
    "\n",
    "  # Train kmeans labels\n",
    "  plt.subplot(2, 3, 2)\n",
    "  plt.gca().set_title('Train Data With KMeans Clusters')\n",
    "  plt.scatter(X_train_r[:, 0], X_train_r[:, 1], c= kmy_pred_train, s=20, cmap=my_cmap)\n",
    "  plt.scatter(train_centers [:, 0], train_centers [:, 1], c='black', s=100, alpha=0.8)\n",
    "\n",
    "  # Train spectral labels\n",
    "  plt.subplot(2, 3, 3)\n",
    "  plt.gca().set_title('Train Data With Spectral Clusters')\n",
    "  plt.scatter(X_train_r[:, 0], X_train_r[:, 1], c= spy_pred_train, s=20, cmap=my_cmap)\n",
    "\n",
    "\n",
    "  # Test orginial labels\n",
    "  plt.subplot(2, 3, 4)\n",
    "  plt.gca().set_title('Test Data With Orginial Labels')\n",
    "  plt.scatter(X_test_r[:, 0], X_test_r[:, 1], c= y_test, s=20,cmap=my_cmap)\n",
    "\n",
    "  # Test kmeans labels\n",
    "  plt.subplot(2, 3, 5)\n",
    "  plt.gca().set_title('Test Data With KMeans Clusters')\n",
    "  plt.scatter(X_test_r[:, 0], X_test_r[:, 1], c= kmy_pred_test, s=20,cmap=my_cmap)\n",
    "  plt.scatter(test_centers[:, 0], test_centers[:, 1], c='black', s=100, alpha=0.8)\n",
    "\n",
    "  # Test spectral labels\n",
    "  plt.subplot(2, 3, 6)\n",
    "  plt.gca().set_title('Test Data With Spectral Clusters')\n",
    "  plt.scatter(X_test_r[:, 0], X_test_r[:, 1], c= spy_pred_test, s=20, cmap=my_cmap)\n",
    "\n",
    "  fig.suptitle(title + \" Reduction\", fontsize=16)\n",
    "\n",
    "  fig.tight_layout()\n",
    "  fig.subplots_adjust(top=0.93)\n",
    "  plt.show()\n",
    "\n",
    "\n",
    "\n",
    "#visualize(newsgroups_X_train , newsgroups_X_test , newsgroups_y_train, newsgroups_y_test, umap_reduce, \"\", 20)\n"
   ]
  },
  {
   "cell_type": "code",
   "execution_count": 15,
   "metadata": {
    "colab": {
     "base_uri": "https://localhost:8080/",
     "height": 1000
    },
    "id": "KHgmQh2OvuB2",
    "outputId": "be76a53e-c24d-45b3-826e-51b08798b3bd"
   },
   "outputs": [
    {
     "name": "stdout",
     "output_type": "stream",
     "text": [
      "time: 2.86 ms (started: 2021-02-06 19:32:50 -05:00)\n"
     ]
    }
   ],
   "source": [
    "# Digits reduction \n",
    "#dimension_reduce([48, 32, 16, 8, 4, 2], digits_X_train, digits_X_test, digits_y_train, digits_y_test, kernel_pcarbf_reduce, 10)\n",
    "#visualize(digits_X_train, digits_X_test, digits_y_train, digits_y_test, som_reduce, \"SOM\", 10)\n",
    "\n",
    "#visualize(digits_X_train, digits_X_test, digits_y_train, digits_y_test, tsne_reduce, \"TSNE\", 10)"
   ]
  },
  {
   "cell_type": "code",
   "execution_count": null,
   "metadata": {
    "colab": {
     "base_uri": "https://localhost:8080/",
     "height": 831
    },
    "id": "AupqNLI3iPz2",
    "outputId": "46ea21ee-dbca-49f8-8760-f0bc82e911d3"
   },
   "outputs": [],
   "source": []
  },
  {
   "cell_type": "code",
   "execution_count": null,
   "metadata": {
    "id": "xSXWg32JInGj"
   },
   "outputs": [],
   "source": []
  },
  {
   "cell_type": "code",
   "execution_count": null,
   "metadata": {
    "colab": {
     "base_uri": "https://localhost:8080/",
     "height": 1000
    },
    "id": "MTtJVK4B6fP-",
    "outputId": "ac33aee3-9bb0-46f4-ddc9-d0b8ef68aede"
   },
   "outputs": [],
   "source": [
    "# fetch 20 reduction \n",
    "#dimension_reduce([ 1000, 500, 300, 200, 100, 50, 20], newsgroups_X_train , newsgroups_X_test , newsgroups_y_train , newsgroups_y_test, 20)\n",
    "\n",
    "#PCA\n",
    "#visualize(newsgroups_X_train , newsgroups_X_test , newsgroups_y_train, newsgroups_y_test, pca_reduce, \"PCA\", 20)"
   ]
  },
  {
   "cell_type": "code",
   "execution_count": null,
   "metadata": {},
   "outputs": [],
   "source": [
    "dimension_reduce([7500, 5000, 2500, 1000, 500, 250, 50, 20], newsgroups_X_train , newsgroups_X_test , newsgroups_y_train, newsgroups_y_test, umap_reduce, 20)"
   ]
  },
  {
   "cell_type": "code",
   "execution_count": null,
   "metadata": {},
   "outputs": [],
   "source": [
    "dimension_reduce([7500, 5000, 2500, 1000, 500, 250, 50, 20], newsgroups_X_train , newsgroups_X_test , newsgroups_y_train, newsgroups_y_test, pca_reduce, 20)"
   ]
  },
  {
   "cell_type": "code",
   "execution_count": null,
   "metadata": {
    "colab": {
     "base_uri": "https://localhost:8080/",
     "height": 1000
    },
    "id": "-HkBB2QqL8Vm",
    "outputId": "ca30511e-4166-4bf4-d266-1cc840a9fde9"
   },
   "outputs": [],
   "source": [
    "# rcv1 reduction\n",
    "#dimension_reduce([ 1000, 500, 300, 200, 100, 50, 20], rcv1_X_train , rcv1_X_test , rcv1_y_train , rcv1_y_test, 103)\n",
    "#visualize_pca(rcv1_X_train , rcv1_X_test , rcv1_y_train , rcv1_y_test, 103)\n",
    "#visualize_tsne(rcv1_X_train , rcv1_X_test , rcv1_y_train , rcv1_y_test, 103, True)"
   ]
  },
  {
   "cell_type": "code",
   "execution_count": null,
   "metadata": {},
   "outputs": [],
   "source": []
  }
 ],
 "metadata": {
  "colab": {
   "collapsed_sections": [],
   "name": "MNIST_Cluster.ipynb",
   "provenance": []
  },
  "kernelspec": {
   "display_name": "Python 3",
   "language": "python",
   "name": "python3"
  },
  "language_info": {
   "codemirror_mode": {
    "name": "ipython",
    "version": 3
   },
   "file_extension": ".py",
   "mimetype": "text/x-python",
   "name": "python",
   "nbconvert_exporter": "python",
   "pygments_lexer": "ipython3",
   "version": "3.7.9"
  }
 },
 "nbformat": 4,
 "nbformat_minor": 1
}
