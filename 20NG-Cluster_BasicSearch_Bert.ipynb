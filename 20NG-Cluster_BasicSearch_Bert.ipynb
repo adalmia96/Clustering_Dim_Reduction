{
 "cells": [
  {
   "cell_type": "code",
   "execution_count": 1,
   "metadata": {
    "colab": {
     "base_uri": "https://localhost:8080/"
    },
    "id": "nDnUdfDtY2b_",
    "outputId": "caae535c-93cc-4d13-a87f-448a09002cc7"
   },
   "outputs": [
    {
     "name": "stdout",
     "output_type": "stream",
     "text": [
      "Requirement already satisfied: mnist in /home/adalmia1/anaconda3/lib/python3.7/site-packages (0.2.2)\n",
      "Requirement already satisfied: numpy in /home/adalmia1/anaconda3/lib/python3.7/site-packages (from mnist) (1.19.5)\n",
      "Requirement already satisfied: minisom in /home/adalmia1/anaconda3/lib/python3.7/site-packages (2.2.7)\n"
     ]
    },
    {
     "name": "stderr",
     "output_type": "stream",
     "text": [
      "/home/adalmia1/anaconda3/lib/python3.7/site-packages/umap/__init__.py:9: UserWarning: Tensorflow not installed; ParametricUMAP will be unavailable\n",
      "  warn(\"Tensorflow not installed; ParametricUMAP will be unavailable\")\n"
     ]
    },
    {
     "name": "stdout",
     "output_type": "stream",
     "text": [
      "Requirement already satisfied: ipython-autotime in /home/adalmia1/anaconda3/lib/python3.7/site-packages (0.3.0)\n",
      "Requirement already satisfied: ipython in /home/adalmia1/anaconda3/lib/python3.7/site-packages (from ipython-autotime) (7.19.0)\n",
      "Requirement already satisfied: decorator in /home/adalmia1/anaconda3/lib/python3.7/site-packages (from ipython->ipython-autotime) (4.4.2)\n",
      "Requirement already satisfied: pickleshare in /home/adalmia1/anaconda3/lib/python3.7/site-packages (from ipython->ipython-autotime) (0.7.5)\n",
      "Requirement already satisfied: pygments in /home/adalmia1/anaconda3/lib/python3.7/site-packages (from ipython->ipython-autotime) (2.7.3)\n",
      "Requirement already satisfied: jedi>=0.10 in /home/adalmia1/anaconda3/lib/python3.7/site-packages (from ipython->ipython-autotime) (0.17.2)\n",
      "Requirement already satisfied: setuptools>=18.5 in /home/adalmia1/anaconda3/lib/python3.7/site-packages (from ipython->ipython-autotime) (51.1.2.post20210110)\n",
      "Requirement already satisfied: prompt-toolkit!=3.0.0,!=3.0.1,<3.1.0,>=2.0.0 in /home/adalmia1/anaconda3/lib/python3.7/site-packages (from ipython->ipython-autotime) (3.0.8)\n",
      "Requirement already satisfied: pexpect>4.3 in /home/adalmia1/anaconda3/lib/python3.7/site-packages (from ipython->ipython-autotime) (4.8.0)\n",
      "Requirement already satisfied: traitlets>=4.2 in /home/adalmia1/anaconda3/lib/python3.7/site-packages (from ipython->ipython-autotime) (5.0.5)\n",
      "Requirement already satisfied: backcall in /home/adalmia1/anaconda3/lib/python3.7/site-packages (from ipython->ipython-autotime) (0.2.0)\n",
      "Requirement already satisfied: parso<0.8.0,>=0.7.0 in /home/adalmia1/anaconda3/lib/python3.7/site-packages (from jedi>=0.10->ipython->ipython-autotime) (0.7.0)\n",
      "Requirement already satisfied: ptyprocess>=0.5 in /home/adalmia1/anaconda3/lib/python3.7/site-packages (from pexpect>4.3->ipython->ipython-autotime) (0.7.0)\n",
      "Requirement already satisfied: wcwidth in /home/adalmia1/anaconda3/lib/python3.7/site-packages (from prompt-toolkit!=3.0.0,!=3.0.1,<3.1.0,>=2.0.0->ipython->ipython-autotime) (0.2.5)\n",
      "Requirement already satisfied: ipython-genutils in /home/adalmia1/anaconda3/lib/python3.7/site-packages (from traitlets>=4.2->ipython->ipython-autotime) (0.2.0)\n",
      "time: 574 µs (started: 2021-02-08 09:16:45 -05:00)\n"
     ]
    }
   ],
   "source": [
    "!pip3 install mnist\n",
    "!pip3 install minisom\n",
    "\n",
    "# imports\n",
    "import matplotlib.pyplot as plt\n",
    "import numpy as np\n",
    "import mnist\n",
    "import scipy.misc\n",
    "import math\n",
    "import seaborn as sns\n",
    "import pickle\n",
    "\n",
    "from matplotlib.colors import ListedColormap\n",
    "from matplotlib import cm\n",
    "\n",
    "from sklearn import datasets,metrics\n",
    "from sklearn.datasets import fetch_20newsgroups, fetch_rcv1\n",
    "from sklearn.feature_extraction.text import TfidfVectorizer, CountVectorizer\n",
    "\n",
    "from sklearn.decomposition import PCA, TruncatedSVD, KernelPCA\n",
    "from sklearn.manifold import TSNE\n",
    "import umap\n",
    "from minisom import MiniSom\n",
    "\n",
    "\n",
    "from sklearn.model_selection import train_test_split, ParameterGrid\n",
    "from sklearn.cluster import KMeans, SpectralClustering, MiniBatchKMeans\n",
    "\n",
    "from sklearn.metrics.pairwise import euclidean_distances\n",
    "\n",
    "from joblib import Parallel, delayed\n",
    "from tqdm import tqdm\n",
    "\n",
    "\n",
    "\n",
    "!pip install ipython-autotime\n",
    "%load_ext autotime"
   ]
  },
  {
   "cell_type": "code",
   "execution_count": 2,
   "metadata": {
    "colab": {
     "base_uri": "https://localhost:8080/"
    },
    "id": "b9pUnfDwZ2II",
    "outputId": "c1ca475e-f422-4da1-d9d9-e661c5dfe795"
   },
   "outputs": [
    {
     "name": "stdout",
     "output_type": "stream",
     "text": [
      "(18846, 768)\n",
      "(18846,)\n",
      "time: 1.64 s (started: 2021-02-08 09:16:45 -05:00)\n"
     ]
    }
   ],
   "source": [
    "# Load full MNIST dataset\n",
    "MNIST_X_train = mnist.train_images()\n",
    "MNIST_X_train = MNIST_X_train.reshape((len(MNIST_X_train), -1)) \n",
    "MNIST_y_train = mnist.train_labels()\n",
    "\n",
    "MNIST_X_test = mnist.test_images()\n",
    "MNIST_X_test = MNIST_X_test.reshape((len(MNIST_X_test), -1)) \n",
    "MNIST_y_test = mnist.test_labels()\n",
    "\n",
    "total_samples = len(MNIST_X_train) + len(MNIST_X_test)\n",
    "\n",
    "\n",
    "#Load the 20NewsGroups\n",
    "vectorizer = CountVectorizer(min_df=5, stop_words='english') \n",
    "\n",
    "newsgroups_train = fetch_20newsgroups(subset='all')\n",
    "newsgroups_X_train = pickle.load( open( \"bert_20ng_everything.txt\", \"rb\" ) )  #vectorizer.fit_transform(newsgroups_train.data).toarray()\n",
    "newsgroups_y_train = newsgroups_train.target\n",
    "\n",
    "\n",
    "print(newsgroups_X_train.shape)\n",
    "print(newsgroups_y_train.shape)\n"
   ]
  },
  {
   "cell_type": "code",
   "execution_count": 3,
   "metadata": {
    "colab": {
     "base_uri": "https://localhost:8080/"
    },
    "id": "kjt7koIvapjT",
    "outputId": "fa31e7ef-6adc-451d-e588-e56a67b98fce"
   },
   "outputs": [
    {
     "name": "stdout",
     "output_type": "stream",
     "text": [
      "time: 468 µs (started: 2021-02-08 09:16:47 -05:00)\n"
     ]
    }
   ],
   "source": [
    "# k-Means clustering\n",
    "def kmeans(X_train, n_clusters):\n",
    "  kmeans = KMeans(n_clusters=n_clusters, random_state=2)\n",
    "  y_pred_train = kmeans.fit_predict(X_train)\n",
    "  train_centers = kmeans.cluster_centers_\n",
    "\n",
    "  return y_pred_train\n",
    "  "
   ]
  },
  {
   "cell_type": "code",
   "execution_count": 4,
   "metadata": {
    "colab": {
     "base_uri": "https://localhost:8080/"
    },
    "id": "weGrjR1Ic_QM",
    "outputId": "16e592c9-fa85-4d74-e6cd-f92ef64e9b69"
   },
   "outputs": [
    {
     "name": "stdout",
     "output_type": "stream",
     "text": [
      "time: 672 µs (started: 2021-02-08 09:16:47 -05:00)\n"
     ]
    }
   ],
   "source": [
    "# Spectral clustering \n",
    "def spectral(X_train, n_clusters):\n",
    "  #med = np.median(euclidean_distances(X_train)) gamma=2*(1/med)**2,\n",
    "  spectral = SpectralClustering(n_clusters=n_clusters, affinity='nearest_neighbors', random_state=0)\n",
    "  y_pred_train = spectral.fit_predict(X_train)\n",
    "\n",
    "  return y_pred_train\n"
   ]
  },
  {
   "cell_type": "code",
   "execution_count": 5,
   "metadata": {
    "colab": {
     "base_uri": "https://localhost:8080/"
    },
    "id": "2Yxb4iMbc_bd",
    "outputId": "37d3b32b-71c1-450d-b163-fac9b0b1f7c1"
   },
   "outputs": [
    {
     "name": "stdout",
     "output_type": "stream",
     "text": [
      "time: 922 µs (started: 2021-02-08 09:16:47 -05:00)\n"
     ]
    }
   ],
   "source": [
    "def purity_score(y_true, y_pred):\n",
    "    # compute contingency matrix (also called confusion matrix)\n",
    "    contingency_matrix = metrics.cluster.contingency_matrix(y_true, y_pred)\n",
    "    # return purity\n",
    "    return np.sum(np.amax(contingency_matrix, axis=0)) / np.sum(contingency_matrix) \n",
    "\n",
    "# Evaluation function\n",
    "def evaluate(X, y, y_pred):\n",
    "    print(\"Accurary Score: %0.3f\" % purity_score(y, y_pred))\n",
    "    print(\"Adjusted Mutual Information Score: %0.3f\" % metrics.adjusted_mutual_info_score(y, y_pred))\n",
    "    print(\"Adjusted Rand Index Score: %0.3f\" % metrics.adjusted_rand_score(y, y_pred))\n",
    "    print(\"Normalized Mutual Information Score: %0.3f\" % metrics.normalized_mutual_info_score(y, y_pred))\n",
    "\n",
    "    print(\"Homogeneity: %0.3f\" % metrics.homogeneity_score(y, y_pred))\n",
    "    print(\"Completeness: %0.3f\" % metrics.completeness_score(y, y_pred))\n",
    "    print(\"V-measure: %0.3f\" % metrics.v_measure_score(y, y_pred))\n",
    "    #print(np.unique(y_pred))\n",
    "    print(\"Silhouette Coefficient: %0.3f\" % metrics.silhouette_score(X, y_pred, sample_size=1000))\n",
    "    print()\n",
    "\n"
   ]
  },
  {
   "cell_type": "code",
   "execution_count": null,
   "metadata": {
    "colab": {
     "base_uri": "https://localhost:8080/"
    },
    "id": "sjJB972LfhdY",
    "outputId": "edf1b2d6-4a37-4649-a0ac-9dd60c4593c9"
   },
   "outputs": [
    {
     "name": "stderr",
     "output_type": "stream",
     "text": [
      "\r",
      "  0%|          | 0/160 [00:00<?, ?it/s]"
     ]
    },
    {
     "name": "stdout",
     "output_type": "stream",
     "text": [
      "Reduce\n"
     ]
    },
    {
     "name": "stderr",
     "output_type": "stream",
     "text": [
      " 50%|█████     | 80/160 [3:11:04<3:06:45, 140.06s/it]/home/adalmia1/anaconda3/lib/python3.7/site-packages/joblib/externals/loky/process_executor.py:691: UserWarning: A worker stopped while some jobs were given to the executor. This can be caused by a too short worker timeout or by a memory leak.\n",
      "  \"timeout or by a memory leak.\", UserWarning\n",
      "100%|██████████| 160/160 [10:52:39<00:00, 244.74s/it] \n"
     ]
    },
    {
     "name": "stdout",
     "output_type": "stream",
     "text": [
      "{'metric': 'cosine', 'min_dist': 0.1, 'n_neighbors': 15}\n"
     ]
    }
   ],
   "source": [
    "# dimension reduction\n",
    "\n",
    "\n",
    "def umap_reduce(X_train, dim):\n",
    "  umapr = umap.UMAP(n_components=dim,  n_jobs=1)\n",
    "  X_train_umap = umapr.fit_transform(X_train)\n",
    "  #X_test_umap = umapr.fit_transform(X_test)\n",
    "  return X_train_umap\n",
    "\n",
    "\n",
    "\n",
    "\n",
    "def cv_score(estimator, g, X, y, n_clusters):\n",
    "  estimator.set_params(**g)\n",
    "  X_r = estimator.fit_transform(X)\n",
    "  y_pred = kmeans(X_r, n_clusters)\n",
    "  return (purity_score(y, y_pred), g)\n",
    "  \n",
    "\n",
    "\n",
    "\n",
    "def dimension_reduce(dimensions, X, y, n_clusters):\n",
    "  #y_pred_train = kmeans(X, n_clusters)\n",
    "  #print(\"Original KMeans\")\n",
    "  #evaluate(X,y,y_pred_train) \n",
    "\n",
    "  #y_pred_train = spectral(X, n_clusters)\n",
    "  #print(\"Original Spectral\")\n",
    "  #evaluate(X ,y,y_pred_train)\n",
    "  \n",
    "  \n",
    "  param_grid = [{\n",
    "        \"n_neighbors\": [15, 25, 35, 50],\n",
    "        \"metric\": ['euclidean', 'cosine', 'correlation', 'jaccard'],\n",
    "        \"min_dist\": np.linspace(0.1, 1, 10)\n",
    "    }]\n",
    "  \n",
    "  param_grid = ParameterGrid(param_grid)\n",
    "  \n",
    "  \n",
    "  for dim in dimensions:\n",
    "    \n",
    "    umapr = umap.UMAP(n_components=dim, n_epochs = 500, n_jobs=1)\n",
    "    print(\"Reduce\")\n",
    "    results = np.array(Parallel(n_jobs=4)(delayed(cv_score)(umapr, g, X, y, n_clusters)  for g in tqdm(param_grid))) \n",
    "    \n",
    "    best_param = sorted(results, key=lambda t: t[0], reverse=True)[:1]\n",
    "    best_param = best_param[0][1] \n",
    "    print(best_param)\n",
    "    umapr.set_params(**best_param)\n",
    "    X_umap = umapr.fit_transform(X)\n",
    "    \n",
    "    y_pred_train = kmeans(X_umap,  n_clusters)\n",
    "    print(\"KMeans dimension reduce: \" + str(dim))\n",
    "    evaluate(X_umap,y,y_pred_train)\n",
    "\n",
    "    #y_pred_train = spectral(X_umap, n_clusters)\n",
    "    #print(\"Spectral dimension reduce: \" + str(dim))\n",
    "    #evaluate(X_umap,y,y_pred_train)\n",
    "\n",
    "\n",
    "\n",
    "\n",
    "dimension_reduce([300, 500], newsgroups_X_train , newsgroups_y_train, 20)\n"
   ]
  },
  {
   "cell_type": "code",
   "execution_count": null,
   "metadata": {
    "colab": {
     "base_uri": "https://localhost:8080/",
     "height": 743
    },
    "id": "3LyZosoU5njI",
    "outputId": "52766682-3db5-4f40-f467-18f460ac72e4"
   },
   "outputs": [],
   "source": [
    "# Visualization general\n",
    "\n",
    "def visualize(X_train, y_train, reduce, title, n_clusters):\n",
    " \n",
    "  colors = []\n",
    "  colors += cm.get_cmap(\"Set3\").colors\n",
    "  colors += cm.get_cmap(\"Set2\").colors\n",
    "  my_cmap = ListedColormap(colors)\n",
    "  \n",
    "  X_train_r = reduce(X_train, 2)\n",
    " \n",
    "\n",
    "  kmy_pred_train, train_centers = kmeans(X_train_r, n_clusters)\n",
    "  #spy_pred_train, spy_pred_test = spectral(X_train_r, X_test_r, y_train, y_test, n_clusters)\n",
    "\n",
    "  \n",
    "  fig=plt.figure(figsize=(8,5))\n",
    "  # Train orginial labels\n",
    "  plt.subplot(1, 2, 1)\n",
    "  plt.gca().set_title('Train Data With Orginial Labels')\n",
    "  plt.scatter(X_train_r[:, 0], X_train_r[:, 1], c= y_train, s=20, cmap=my_cmap)\n",
    "\n",
    "  # Train kmeans labels\n",
    "  plt.subplot(1, 2, 2)\n",
    "  plt.gca().set_title('Train Data With KMeans Clusters')\n",
    "  plt.scatter(X_train_r[:, 0], X_train_r[:, 1], c= kmy_pred_train, s=20, cmap=my_cmap)\n",
    "  plt.scatter(train_centers [:, 0], train_centers [:, 1], c='black', s=100, alpha=0.8)\n",
    "\n",
    "\n",
    "  fig.suptitle(title + \" Reduction\", fontsize=16)\n",
    "\n",
    "  fig.tight_layout()\n",
    "  fig.subplots_adjust(top=0.85)\n",
    "  plt.show()\n",
    "\n",
    "\n",
    "\n",
    "visualize(newsgroups_X_train , newsgroups_y_train,  umap_reduce, \"UMAP BERT\", 20)\n"
   ]
  },
  {
   "cell_type": "code",
   "execution_count": null,
   "metadata": {
    "colab": {
     "base_uri": "https://localhost:8080/",
     "height": 1000
    },
    "id": "KHgmQh2OvuB2",
    "outputId": "be76a53e-c24d-45b3-826e-51b08798b3bd"
   },
   "outputs": [],
   "source": [
    "# Digits reduction \n",
    "#dimension_reduce([48, 32, 16, 8, 4, 2], digits_X_train, digits_X_test, digits_y_train, digits_y_test, kernel_pcarbf_reduce, 10)\n",
    "#visualize(digits_X_train, digits_X_test, digits_y_train, digits_y_test, som_reduce, \"SOM\", 10)\n",
    "\n",
    "#visualize(digits_X_train, digits_X_test, digits_y_train, digits_y_test, tsne_reduce, \"TSNE\", 10)"
   ]
  },
  {
   "cell_type": "code",
   "execution_count": null,
   "metadata": {
    "colab": {
     "base_uri": "https://localhost:8080/",
     "height": 831
    },
    "id": "AupqNLI3iPz2",
    "outputId": "46ea21ee-dbca-49f8-8760-f0bc82e911d3"
   },
   "outputs": [],
   "source": []
  },
  {
   "cell_type": "code",
   "execution_count": null,
   "metadata": {
    "id": "xSXWg32JInGj"
   },
   "outputs": [],
   "source": []
  },
  {
   "cell_type": "code",
   "execution_count": null,
   "metadata": {
    "colab": {
     "base_uri": "https://localhost:8080/",
     "height": 1000
    },
    "id": "MTtJVK4B6fP-",
    "outputId": "ac33aee3-9bb0-46f4-ddc9-d0b8ef68aede"
   },
   "outputs": [],
   "source": [
    "# fetch 20 reduction \n",
    "#dimension_reduce([ 1000, 500, 300, 200, 100, 50, 20], newsgroups_X_train , newsgroups_X_test , newsgroups_y_train , newsgroups_y_test, 20)\n",
    "\n",
    "#PCA\n",
    "#visualize(newsgroups_X_train , newsgroups_X_test , newsgroups_y_train, newsgroups_y_test, pca_reduce, \"PCA\", 20)"
   ]
  },
  {
   "cell_type": "code",
   "execution_count": null,
   "metadata": {},
   "outputs": [],
   "source": [
    "dimension_reduce([7500, 5000, 2500, 1000, 500, 250, 50, 20], newsgroups_X_train , newsgroups_X_test , newsgroups_y_train, newsgroups_y_test, umap_reduce, 20)"
   ]
  },
  {
   "cell_type": "code",
   "execution_count": null,
   "metadata": {},
   "outputs": [],
   "source": [
    "dimension_reduce([7500, 5000, 2500, 1000, 500, 250, 50, 20], newsgroups_X_train , newsgroups_X_test , newsgroups_y_train, newsgroups_y_test, pca_reduce, 20)"
   ]
  },
  {
   "cell_type": "code",
   "execution_count": null,
   "metadata": {
    "colab": {
     "base_uri": "https://localhost:8080/",
     "height": 1000
    },
    "id": "-HkBB2QqL8Vm",
    "outputId": "ca30511e-4166-4bf4-d266-1cc840a9fde9"
   },
   "outputs": [],
   "source": [
    "# rcv1 reduction\n",
    "#dimension_reduce([ 1000, 500, 300, 200, 100, 50, 20], rcv1_X_train , rcv1_X_test , rcv1_y_train , rcv1_y_test, 103)\n",
    "#visualize_pca(rcv1_X_train , rcv1_X_test , rcv1_y_train , rcv1_y_test, 103)\n",
    "#visualize_tsne(rcv1_X_train , rcv1_X_test , rcv1_y_train , rcv1_y_test, 103, True)"
   ]
  },
  {
   "cell_type": "code",
   "execution_count": null,
   "metadata": {},
   "outputs": [],
   "source": []
  }
 ],
 "metadata": {
  "colab": {
   "collapsed_sections": [],
   "name": "MNIST_Cluster.ipynb",
   "provenance": []
  },
  "kernelspec": {
   "display_name": "Python 3",
   "language": "python",
   "name": "python3"
  },
  "language_info": {
   "codemirror_mode": {
    "name": "ipython",
    "version": 3
   },
   "file_extension": ".py",
   "mimetype": "text/x-python",
   "name": "python",
   "nbconvert_exporter": "python",
   "pygments_lexer": "ipython3",
   "version": "3.7.9"
  }
 },
 "nbformat": 4,
 "nbformat_minor": 1
}
